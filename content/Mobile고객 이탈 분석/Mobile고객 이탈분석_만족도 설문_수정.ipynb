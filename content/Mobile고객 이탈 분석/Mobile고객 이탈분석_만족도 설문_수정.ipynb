{
  "metadata": {
    "colab": {
      "collapsed_sections": [],
      "name": "과제2. Mobile 고객 이탈 분석.ipynb",
      "provenance": [],
      "toc_visible": true
    },
    "kernelspec": {
      "name": "python",
      "display_name": "Python (Pyodide)",
      "language": "python"
    },
    "language_info": {
      "codemirror_mode": {
        "name": "python",
        "version": 3
      },
      "file_extension": ".py",
      "mimetype": "text/x-python",
      "name": "python",
      "nbconvert_exporter": "python",
      "pygments_lexer": "ipython3",
      "version": "3.8"
    }
  },
  "nbformat_minor": 4,
  "nbformat": 4,
  "cells": [
    {
      "cell_type": "markdown",
      "source": "### 아래의 코드를 실행하여 데이터를 탐색하며,  \n### 만족도 설문에 대한 기초 통계량(수치화), 분포확인(시각화)하세요.\n\n※ 이미 작성된 코드는 실행시켜주시기 바랍니다.",
      "metadata": {}
    },
    {
      "cell_type": "markdown",
      "source": "# Mobile 고객 이탈 분석",
      "metadata": {
        "id": "mTt7qGUTCcFs"
      }
    },
    {
      "cell_type": "markdown",
      "source": "![](https://d18lkz4dllo6v2.cloudfront.net/cumulus_uploads/entry/23964/mobile%20phones.png)",
      "metadata": {
        "id": "0wuYJKZHjA3d"
      }
    },
    {
      "cell_type": "markdown",
      "source": "## 1. 환경설정 및 라이브러리 ",
      "metadata": {
        "id": "AHmt88Q5EVsj"
      }
    },
    {
      "cell_type": "code",
      "source": "# jupyter lite에서 패키지 설치\nimport piplite\nawait piplite.install(\"seaborn\")",
      "metadata": {
        "trusted": true
      },
      "execution_count": null,
      "outputs": []
    },
    {
      "cell_type": "code",
      "source": "# 라이브러리 불러오기\nimport pandas as pd\nimport numpy as np\nimport matplotlib.pyplot as plt\nimport seaborn as sns",
      "metadata": {
        "id": "3rsQerEaELwI",
        "trusted": true
      },
      "execution_count": null,
      "outputs": []
    },
    {
      "cell_type": "markdown",
      "source": "## 2. 데이터 탐색 및 전처리",
      "metadata": {
        "id": "5Qh5KYWokO_N"
      }
    },
    {
      "cell_type": "code",
      "source": "# 데이터 읽어오기\n# mobile data\nmobile = pd.read_csv('mobile_NA2.csv')",
      "metadata": {
        "id": "lM3HN6OwEL3d",
        "trusted": true
      },
      "execution_count": null,
      "outputs": []
    },
    {
      "cell_type": "markdown",
      "source": "|변수 명|내용|구분|\n|----|----|----|\n|COLLEGE|대학졸업 여부(1,0)|feature|\n|INCOME|연 수입액(달러)|feature|\n|OVERAGE|월 초과사용 시간(분)|feature|\n|LEFTOVER|월 사용 잔여시간(분)|feature|\n|HOUSE|집 가격(달러)|feature|\n|HANDSET_PRICE|핸드폰 가격(달러)|feature|\n|AVERAGE_CALL_DURATION|평균 통화시간(분)|feature|\n|REPORTED_SATISFACTION|만족도 설문('very_unsat', 'unsat', 'avg', 'sat', 'very_sat' )|feature|\n|CONSIDERING_CHANGE_OF_PLAN|변경 계획 설문('never_thought', 'no', 'perhaps', 'considering',   'actively_looking_into_it')|feature|\n|**CHURN**|**이탈여부(1 : 이탈, 0 : 잔류)**|**Target**|",
      "metadata": {}
    },
    {
      "cell_type": "code",
      "source": "# 데이터 열 삭제\nmobile.drop(['id', 'REPORTED_USAGE_LEVEL','OVER_15MINS_CALLS_PER_MONTH'], axis = 1, inplace = True)",
      "metadata": {},
      "execution_count": null,
      "outputs": []
    },
    {
      "cell_type": "code",
      "source": "# 데이터 확인\nmobile.head()",
      "metadata": {},
      "execution_count": null,
      "outputs": []
    },
    {
      "cell_type": "markdown",
      "source": "---",
      "metadata": {}
    },
    {
      "cell_type": "markdown",
      "source": "## 3. 데이터 분석",
      "metadata": {}
    },
    {
      "cell_type": "markdown",
      "source": "### 1) 가설 수립",
      "metadata": {}
    },
    {
      "cell_type": "markdown",
      "source": "* REPORTED_SATISFACTION - 만족도 설문('very_unsat', 'unsat', 'avg', 'sat', 'very_sat' ) : 이동통신 만족도에 따라 이탈과 잔류의 가능성을 확인 할 수 있다고 생각함.",
      "metadata": {
        "id": "rSrSFnsVki2d"
      }
    },
    {
      "cell_type": "markdown",
      "source": "### 2) 단변량 분석\n\n① 변수의 비즈니스 의미  \n\n② 숫자? 범주?  \n\n③ NaN 존재 여부 및 조치 방안  \n\n④ 기초통계량  \n\n⑤ 분포  ",
      "metadata": {
        "id": "1hYPpnplEedX"
      }
    },
    {
      "cell_type": "code",
      "source": "#변수 선언\nfeature4 = mobile['REPORTED_SATISFACTION'] ",
      "metadata": {
        "id": "H4Oa5BnzKme9",
        "trusted": true
      },
      "execution_count": null,
      "outputs": []
    },
    {
      "cell_type": "markdown",
      "source": "① 변수의 비즈니스 의미",
      "metadata": {
        "id": "cYoXD-kgKme9"
      }
    },
    {
      "cell_type": "markdown",
      "source": "* REPORTED_SATISFACTION - 만족도 설문",
      "metadata": {
        "id": "LFyUzNHDKme9"
      }
    },
    {
      "cell_type": "markdown",
      "source": "② 숫자, 범주?",
      "metadata": {
        "id": "4NREp0sjKme-"
      }
    },
    {
      "cell_type": "markdown",
      "source": "* 범주",
      "metadata": {
        "id": "hn29bATCKme-"
      }
    },
    {
      "cell_type": "markdown",
      "source": "③ NaN 존재 유무(결측치가 있을경우, 결측치를 제거해주시기 바랍니다.)",
      "metadata": {
        "id": "pmhn3c76Kme-"
      }
    },
    {
      "cell_type": "code",
      "source": "#################\n##     your code     ##\n################\n\n\n",
      "metadata": {
        "id": "hRCxtyB4Kme-"
      },
      "execution_count": null,
      "outputs": []
    },
    {
      "cell_type": "markdown",
      "source": "* 결측치 제거",
      "metadata": {}
    },
    {
      "cell_type": "code",
      "source": "#################\n##     your code     ##\n################\n\n\n",
      "metadata": {},
      "execution_count": null,
      "outputs": []
    },
    {
      "cell_type": "markdown",
      "source": "④ 기초통계량(수치화)",
      "metadata": {
        "id": "JDydNtbzKme-"
      }
    },
    {
      "cell_type": "code",
      "source": "#################\n##     your code     ##\n################\n\n\n\n",
      "metadata": {
        "id": "w7d60XLOKme-"
      },
      "execution_count": null,
      "outputs": []
    },
    {
      "cell_type": "markdown",
      "source": "⑤ 분포 확인(시각화)",
      "metadata": {
        "id": "08OXnGH_Kme-"
      }
    },
    {
      "cell_type": "code",
      "source": "#################\n##     your code     ##\n################\n\n\n\n",
      "metadata": {
        "id": "yMzY2CyxKme_"
      },
      "execution_count": null,
      "outputs": []
    }
  ]
}