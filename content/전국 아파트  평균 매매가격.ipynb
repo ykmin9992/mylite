{
 "cells": [
  {
   "cell_type": "markdown",
   "metadata": {
    "id": "E-qoYWgOC_yk"
   },
   "source": [
    "<center><img src='https://raw.githubusercontent.com/Jangrae/img/master/title.png' width=500/></center>"
   ]
  },
  {
   "cell_type": "markdown",
   "metadata": {
    "id": "BFhIXgdYoYGp"
   },
   "source": [
    "<center><img src='https://raw.githubusercontent.com/Jangrae/img/master/practice3.png' width=300/></center>"
   ]
  },
  {
   "cell_type": "markdown",
   "metadata": {
    "id": "TwTW06tUyUxp"
   },
   "source": [
    "<center>본 실습에서 요구하는 내용 외에도 다양한 내용을 스스로 추가하여  탐색하고 분석해 보기를 권고합니다.</center>"
   ]
  },
  {
   "cell_type": "markdown",
   "metadata": {
    "id": "Xi_yurwiORB7"
   },
   "source": [
    "# 전국 아파트 평균 매매가격"
   ]
  },
  {
   "cell_type": "markdown",
   "metadata": {
    "id": "9D-jtyRW6hjJ"
   },
   "source": [
    "<img src='https://raw.githubusercontent.com/Jangrae/img/master/apart.png' width=\"650\" align=\"left\">"
   ]
  },
  {
   "cell_type": "markdown",
   "metadata": {
    "id": "qb1iLyXwGlnw"
   },
   "source": [
    "## 1.환경 설정\n",
    "\n",
    "- 데이터 탐색과 전처리를 하기 전 필요한 라이브러리와 대상 파일을 읽어옵니다.\n",
    "- 시각화에 한글이 포함될 경우 이에 대한 설정을 진행합니다."
   ]
  },
  {
   "cell_type": "markdown",
   "metadata": {
    "id": "PK8ZI9P5mRV8"
   },
   "source": [
    "**1) 한글 설정**\n",
    "\n",
    "- Jupyter Notebook 시각화에 한글이 표시되게 설정합니다."
   ]
  },
  {
   "cell_type": "code",
   "execution_count": 26,
   "metadata": {
    "id": "lyk2U1RZmRV9"
   },
   "outputs": [],
   "source": [
    "# 라이브러리 불러오기\n",
    "import matplotlib.pyplot as plt\n",
    "import matplotlib.font_manager as fm\n",
    "\n",
    "# 폰트설정\n",
    "plt.rc('font', family='Malgun Gothic')\n",
    "plt.rcParams['axes.unicode_minus'] = False"
   ]
  },
  {
   "cell_type": "markdown",
   "metadata": {
    "id": "0uNXxebRGrd8"
   },
   "source": [
    "**2) 라이브러리 불러오기**\n",
    "\n",
    "- 사용할 라이브러리를 불러옵니다."
   ]
  },
  {
   "cell_type": "code",
   "execution_count": 27,
   "metadata": {
    "id": "p3lUS_fyqvnh"
   },
   "outputs": [],
   "source": [
    "# 라이브러리 불러오기\n",
    "import numpy as np\n",
    "import pandas as pd\n",
    "import matplotlib.pyplot as plt\n",
    "\n",
    "%config InlineBackend.figure_format = 'retina'"
   ]
  },
  {
   "cell_type": "markdown",
   "metadata": {
    "id": "ul8zKgxCqvnh"
   },
   "source": [
    "**3) 데이터 읽어오기**\n",
    "\n",
    "- 다음 경로의 파일을 읽어와 apart 데이터프레임을 만드세요.\n",
    "- 파일 경로: https://raw.githubusercontent.com/Jangrae/csv/master/apart_price.csv\n",
    "- Decoding 오류가 발생하면 encoding='CP949' 옵션을 지정해 읽어옵니다."
   ]
  },
  {
   "cell_type": "code",
   "execution_count": 28,
   "metadata": {
    "id": "enhGxkyt0KcI"
   },
   "outputs": [],
   "source": [
    "# 데이터 읽어오기\n",
    "path = 'https://raw.githubusercontent.com/Jangrae/csv/master/apart_price.csv'\n",
    "apart = pd.read_csv(path, encoding='CP949') "
   ]
  },
  {
   "cell_type": "markdown",
   "metadata": {
    "id": "1O_usuOg0KcP"
   },
   "source": [
    "## 2.데이터 탐색\n",
    "\n",
    "다음과 같은 정보 확인을 통해 처리할 대상 데이터를 이해합니다.\n",
    "- 상/하위 데이터 확인\n",
    "- 데이터프레임 크기 확인\n",
    "- 열 이름, 데이터 형식, 값 개수 등 확인\n",
    "- 기초 통계정보 확인\n",
    "- 결측치 확인\n",
    "- 범주형 데이터 확인\n",
    "- 개별 열 값 상세 확인 등"
   ]
  },
  {
   "cell_type": "markdown",
   "metadata": {
    "id": "Lxus78Ii0KcR"
   },
   "source": [
    "**1) 상/하위 데이터 확인**\n",
    "\n",
    "- 상/하위 데이터를 확인합니다."
   ]
  },
  {
   "cell_type": "code",
   "execution_count": 29,
   "metadata": {
    "colab": {
     "base_uri": "https://localhost:8080/",
     "height": 206
    },
    "executionInfo": {
     "elapsed": 709,
     "status": "ok",
     "timestamp": 1639813493213,
     "user": {
      "displayName": "Jangrae Lee",
      "photoUrl": "https://lh3.googleusercontent.com/a-/AOh14Gh1Pd8OuWJU2cv7uTt-fURrgvty7atx_Wtarmx0-A=s64",
      "userId": "08475661575434032088"
     },
     "user_tz": -540
    },
    "id": "L10e2SPG0KcS",
    "outputId": "1400a3f5-7313-40fb-da93-a7a1890dd4e5",
    "scrolled": true
   },
   "outputs": [
    {
     "data": {
      "text/html": [
       "<div>\n",
       "<style scoped>\n",
       "    .dataframe tbody tr th:only-of-type {\n",
       "        vertical-align: middle;\n",
       "    }\n",
       "\n",
       "    .dataframe tbody tr th {\n",
       "        vertical-align: top;\n",
       "    }\n",
       "\n",
       "    .dataframe thead th {\n",
       "        text-align: right;\n",
       "    }\n",
       "</style>\n",
       "<table border=\"1\" class=\"dataframe\">\n",
       "  <thead>\n",
       "    <tr style=\"text-align: right;\">\n",
       "      <th></th>\n",
       "      <th>지역1</th>\n",
       "      <th>지역2</th>\n",
       "      <th>2020-08</th>\n",
       "      <th>2020-09</th>\n",
       "      <th>2020-10</th>\n",
       "      <th>2020-11</th>\n",
       "      <th>2020-12</th>\n",
       "      <th>2021-01</th>\n",
       "      <th>2021-02</th>\n",
       "      <th>2021-03</th>\n",
       "      <th>2021-04</th>\n",
       "      <th>2021-05</th>\n",
       "      <th>2021-06</th>\n",
       "      <th>2021-07</th>\n",
       "    </tr>\n",
       "  </thead>\n",
       "  <tbody>\n",
       "    <tr>\n",
       "      <th>0</th>\n",
       "      <td>서울</td>\n",
       "      <td>종로구</td>\n",
       "      <td>1029542</td>\n",
       "      <td>1033625</td>\n",
       "      <td>1036486</td>\n",
       "      <td>1036681</td>\n",
       "      <td>1037986</td>\n",
       "      <td>1039903</td>\n",
       "      <td>1041444</td>\n",
       "      <td>1044347</td>\n",
       "      <td>1045819</td>\n",
       "      <td>1047819</td>\n",
       "      <td>1048722</td>\n",
       "      <td>1050750</td>\n",
       "    </tr>\n",
       "    <tr>\n",
       "      <th>1</th>\n",
       "      <td>서울</td>\n",
       "      <td>중구</td>\n",
       "      <td>802257</td>\n",
       "      <td>806143</td>\n",
       "      <td>807771</td>\n",
       "      <td>808743</td>\n",
       "      <td>809900</td>\n",
       "      <td>812157</td>\n",
       "      <td>814614</td>\n",
       "      <td>820100</td>\n",
       "      <td>822257</td>\n",
       "      <td>823314</td>\n",
       "      <td>824371</td>\n",
       "      <td>829486</td>\n",
       "    </tr>\n",
       "    <tr>\n",
       "      <th>2</th>\n",
       "      <td>서울</td>\n",
       "      <td>용산구</td>\n",
       "      <td>1399354</td>\n",
       "      <td>1406439</td>\n",
       "      <td>1411232</td>\n",
       "      <td>1412659</td>\n",
       "      <td>1413768</td>\n",
       "      <td>1416951</td>\n",
       "      <td>1421012</td>\n",
       "      <td>1427366</td>\n",
       "      <td>1430780</td>\n",
       "      <td>1434768</td>\n",
       "      <td>1439390</td>\n",
       "      <td>1445073</td>\n",
       "    </tr>\n",
       "    <tr>\n",
       "      <th>3</th>\n",
       "      <td>서울</td>\n",
       "      <td>성동구</td>\n",
       "      <td>910716</td>\n",
       "      <td>916402</td>\n",
       "      <td>918667</td>\n",
       "      <td>920020</td>\n",
       "      <td>921108</td>\n",
       "      <td>923402</td>\n",
       "      <td>927029</td>\n",
       "      <td>934049</td>\n",
       "      <td>938029</td>\n",
       "      <td>940000</td>\n",
       "      <td>942235</td>\n",
       "      <td>947157</td>\n",
       "    </tr>\n",
       "    <tr>\n",
       "      <th>4</th>\n",
       "      <td>서울</td>\n",
       "      <td>광진구</td>\n",
       "      <td>1021037</td>\n",
       "      <td>1025866</td>\n",
       "      <td>1029256</td>\n",
       "      <td>1030878</td>\n",
       "      <td>1032220</td>\n",
       "      <td>1034524</td>\n",
       "      <td>1038378</td>\n",
       "      <td>1047439</td>\n",
       "      <td>1053024</td>\n",
       "      <td>1056524</td>\n",
       "      <td>1059476</td>\n",
       "      <td>1063805</td>\n",
       "    </tr>\n",
       "  </tbody>\n",
       "</table>\n",
       "</div>"
      ],
      "text/plain": [
       "  지역1  지역2  2020-08  2020-09  2020-10  2020-11  2020-12  2021-01  2021-02  \\\n",
       "0  서울  종로구  1029542  1033625  1036486  1036681  1037986  1039903  1041444   \n",
       "1  서울   중구   802257   806143   807771   808743   809900   812157   814614   \n",
       "2  서울  용산구  1399354  1406439  1411232  1412659  1413768  1416951  1421012   \n",
       "3  서울  성동구   910716   916402   918667   920020   921108   923402   927029   \n",
       "4  서울  광진구  1021037  1025866  1029256  1030878  1032220  1034524  1038378   \n",
       "\n",
       "   2021-03  2021-04  2021-05  2021-06  2021-07  \n",
       "0  1044347  1045819  1047819  1048722  1050750  \n",
       "1   820100   822257   823314   824371   829486  \n",
       "2  1427366  1430780  1434768  1439390  1445073  \n",
       "3   934049   938029   940000   942235   947157  \n",
       "4  1047439  1053024  1056524  1059476  1063805  "
      ]
     },
     "execution_count": 29,
     "metadata": {},
     "output_type": "execute_result"
    }
   ],
   "source": [
    "# 상위 5개 행 확인\n",
    "apart.head()"
   ]
  },
  {
   "cell_type": "code",
   "execution_count": 30,
   "metadata": {
    "colab": {
     "base_uri": "https://localhost:8080/",
     "height": 206
    },
    "executionInfo": {
     "elapsed": 51,
     "status": "ok",
     "timestamp": 1639813493214,
     "user": {
      "displayName": "Jangrae Lee",
      "photoUrl": "https://lh3.googleusercontent.com/a-/AOh14Gh1Pd8OuWJU2cv7uTt-fURrgvty7atx_Wtarmx0-A=s64",
      "userId": "08475661575434032088"
     },
     "user_tz": -540
    },
    "id": "r6tiodOr0KcZ",
    "outputId": "059d8248-e0ce-4400-9920-cb6fe955693e",
    "scrolled": true
   },
   "outputs": [
    {
     "data": {
      "text/html": [
       "<div>\n",
       "<style scoped>\n",
       "    .dataframe tbody tr th:only-of-type {\n",
       "        vertical-align: middle;\n",
       "    }\n",
       "\n",
       "    .dataframe tbody tr th {\n",
       "        vertical-align: top;\n",
       "    }\n",
       "\n",
       "    .dataframe thead th {\n",
       "        text-align: right;\n",
       "    }\n",
       "</style>\n",
       "<table border=\"1\" class=\"dataframe\">\n",
       "  <thead>\n",
       "    <tr style=\"text-align: right;\">\n",
       "      <th></th>\n",
       "      <th>지역1</th>\n",
       "      <th>지역2</th>\n",
       "      <th>2020-08</th>\n",
       "      <th>2020-09</th>\n",
       "      <th>2020-10</th>\n",
       "      <th>2020-11</th>\n",
       "      <th>2020-12</th>\n",
       "      <th>2021-01</th>\n",
       "      <th>2021-02</th>\n",
       "      <th>2021-03</th>\n",
       "      <th>2021-04</th>\n",
       "      <th>2021-05</th>\n",
       "      <th>2021-06</th>\n",
       "      <th>2021-07</th>\n",
       "    </tr>\n",
       "  </thead>\n",
       "  <tbody>\n",
       "    <tr>\n",
       "      <th>182</th>\n",
       "      <td>경남</td>\n",
       "      <td>밀양시</td>\n",
       "      <td>126455</td>\n",
       "      <td>126261</td>\n",
       "      <td>125989</td>\n",
       "      <td>125727</td>\n",
       "      <td>125773</td>\n",
       "      <td>125625</td>\n",
       "      <td>125977</td>\n",
       "      <td>126977</td>\n",
       "      <td>127614</td>\n",
       "      <td>127932</td>\n",
       "      <td>128364</td>\n",
       "      <td>129125</td>\n",
       "    </tr>\n",
       "    <tr>\n",
       "      <th>183</th>\n",
       "      <td>경남</td>\n",
       "      <td>거제시</td>\n",
       "      <td>155274</td>\n",
       "      <td>155921</td>\n",
       "      <td>156366</td>\n",
       "      <td>156543</td>\n",
       "      <td>156165</td>\n",
       "      <td>155616</td>\n",
       "      <td>156555</td>\n",
       "      <td>157811</td>\n",
       "      <td>159494</td>\n",
       "      <td>160220</td>\n",
       "      <td>160549</td>\n",
       "      <td>161079</td>\n",
       "    </tr>\n",
       "    <tr>\n",
       "      <th>184</th>\n",
       "      <td>경남</td>\n",
       "      <td>양산시</td>\n",
       "      <td>172574</td>\n",
       "      <td>172582</td>\n",
       "      <td>172828</td>\n",
       "      <td>173383</td>\n",
       "      <td>174672</td>\n",
       "      <td>181445</td>\n",
       "      <td>187973</td>\n",
       "      <td>191410</td>\n",
       "      <td>194660</td>\n",
       "      <td>197867</td>\n",
       "      <td>201191</td>\n",
       "      <td>204215</td>\n",
       "    </tr>\n",
       "    <tr>\n",
       "      <th>185</th>\n",
       "      <td>제주</td>\n",
       "      <td>제주시</td>\n",
       "      <td>303871</td>\n",
       "      <td>303757</td>\n",
       "      <td>303757</td>\n",
       "      <td>303800</td>\n",
       "      <td>303771</td>\n",
       "      <td>304414</td>\n",
       "      <td>306314</td>\n",
       "      <td>308871</td>\n",
       "      <td>310943</td>\n",
       "      <td>313814</td>\n",
       "      <td>324614</td>\n",
       "      <td>344400</td>\n",
       "    </tr>\n",
       "    <tr>\n",
       "      <th>186</th>\n",
       "      <td>제주</td>\n",
       "      <td>서귀포시</td>\n",
       "      <td>223087</td>\n",
       "      <td>222696</td>\n",
       "      <td>222196</td>\n",
       "      <td>221685</td>\n",
       "      <td>221457</td>\n",
       "      <td>221500</td>\n",
       "      <td>222043</td>\n",
       "      <td>222913</td>\n",
       "      <td>223370</td>\n",
       "      <td>224065</td>\n",
       "      <td>224913</td>\n",
       "      <td>231457</td>\n",
       "    </tr>\n",
       "  </tbody>\n",
       "</table>\n",
       "</div>"
      ],
      "text/plain": [
       "    지역1   지역2  2020-08  2020-09  2020-10  2020-11  2020-12  2021-01  2021-02  \\\n",
       "182  경남   밀양시   126455   126261   125989   125727   125773   125625   125977   \n",
       "183  경남   거제시   155274   155921   156366   156543   156165   155616   156555   \n",
       "184  경남   양산시   172574   172582   172828   173383   174672   181445   187973   \n",
       "185  제주   제주시   303871   303757   303757   303800   303771   304414   306314   \n",
       "186  제주  서귀포시   223087   222696   222196   221685   221457   221500   222043   \n",
       "\n",
       "     2021-03  2021-04  2021-05  2021-06  2021-07  \n",
       "182   126977   127614   127932   128364   129125  \n",
       "183   157811   159494   160220   160549   161079  \n",
       "184   191410   194660   197867   201191   204215  \n",
       "185   308871   310943   313814   324614   344400  \n",
       "186   222913   223370   224065   224913   231457  "
      ]
     },
     "execution_count": 30,
     "metadata": {},
     "output_type": "execute_result"
    }
   ],
   "source": [
    "# 하위 5개 행 확인\n",
    "apart.tail()"
   ]
  },
  {
   "cell_type": "markdown",
   "metadata": {
    "id": "KXhMyTdu0Kcf"
   },
   "source": [
    "**2) 열 데이터 형식, 값 개수 확인**\n",
    "\n",
    "- 어떤 열이 있고, 몇 개의 값들을 갖는지, 데이터 형식은 어떠한 지 확인합니다."
   ]
  },
  {
   "cell_type": "code",
   "execution_count": 31,
   "metadata": {
    "colab": {
     "base_uri": "https://localhost:8080/"
    },
    "executionInfo": {
     "elapsed": 50,
     "status": "ok",
     "timestamp": 1639813493214,
     "user": {
      "displayName": "Jangrae Lee",
      "photoUrl": "https://lh3.googleusercontent.com/a-/AOh14Gh1Pd8OuWJU2cv7uTt-fURrgvty7atx_Wtarmx0-A=s64",
      "userId": "08475661575434032088"
     },
     "user_tz": -540
    },
    "id": "1YeG0s8p0Kcg",
    "outputId": "064f1f0e-5756-4bab-e7ca-a332befffee2"
   },
   "outputs": [
    {
     "name": "stdout",
     "output_type": "stream",
     "text": [
      "<class 'pandas.core.frame.DataFrame'>\n",
      "RangeIndex: 187 entries, 0 to 186\n",
      "Data columns (total 14 columns):\n",
      " #   Column   Non-Null Count  Dtype \n",
      "---  ------   --------------  ----- \n",
      " 0   지역1      187 non-null    object\n",
      " 1   지역2      187 non-null    object\n",
      " 2   2020-08  187 non-null    int64 \n",
      " 3   2020-09  187 non-null    int64 \n",
      " 4   2020-10  187 non-null    int64 \n",
      " 5   2020-11  187 non-null    int64 \n",
      " 6   2020-12  187 non-null    int64 \n",
      " 7   2021-01  187 non-null    int64 \n",
      " 8   2021-02  187 non-null    int64 \n",
      " 9   2021-03  187 non-null    int64 \n",
      " 10  2021-04  187 non-null    int64 \n",
      " 11  2021-05  187 non-null    int64 \n",
      " 12  2021-06  187 non-null    int64 \n",
      " 13  2021-07  187 non-null    int64 \n",
      "dtypes: int64(12), object(2)\n",
      "memory usage: 20.6+ KB\n"
     ]
    }
   ],
   "source": [
    "# 열 정보 확인\n",
    "apart.info()"
   ]
  },
  {
   "cell_type": "markdown",
   "metadata": {
    "id": "etPLyqBrXLY0"
   },
   "source": [
    "**3) 결측치 확인**\n",
    "\n",
    "- 결측치가 있는 지 확인합니다."
   ]
  },
  {
   "cell_type": "code",
   "execution_count": 32,
   "metadata": {
    "colab": {
     "base_uri": "https://localhost:8080/"
    },
    "executionInfo": {
     "elapsed": 19,
     "status": "ok",
     "timestamp": 1639813493215,
     "user": {
      "displayName": "Jangrae Lee",
      "photoUrl": "https://lh3.googleusercontent.com/a-/AOh14Gh1Pd8OuWJU2cv7uTt-fURrgvty7atx_Wtarmx0-A=s64",
      "userId": "08475661575434032088"
     },
     "user_tz": -540
    },
    "id": "JNjUwfhwXPjq",
    "outputId": "4ef8177e-a174-491d-b230-8be961cc9eaa",
    "scrolled": true
   },
   "outputs": [
    {
     "data": {
      "text/plain": [
       "지역1        0\n",
       "지역2        0\n",
       "2020-08    0\n",
       "2020-09    0\n",
       "2020-10    0\n",
       "2020-11    0\n",
       "2020-12    0\n",
       "2021-01    0\n",
       "2021-02    0\n",
       "2021-03    0\n",
       "2021-04    0\n",
       "2021-05    0\n",
       "2021-06    0\n",
       "2021-07    0\n",
       "dtype: int64"
      ]
     },
     "execution_count": 32,
     "metadata": {},
     "output_type": "execute_result"
    }
   ],
   "source": [
    "# 결측치 확인\n",
    "apart.isna().sum()"
   ]
  },
  {
   "cell_type": "markdown",
   "metadata": {
    "id": "etPLyqBrXLY0"
   },
   "source": [
    "**4) 기초통계정보 확인**\n",
    "\n",
    "- 기초통계정보를 확인합니다."
   ]
  },
  {
   "cell_type": "code",
   "execution_count": 33,
   "metadata": {
    "colab": {
     "base_uri": "https://localhost:8080/"
    },
    "executionInfo": {
     "elapsed": 19,
     "status": "ok",
     "timestamp": 1639813493215,
     "user": {
      "displayName": "Jangrae Lee",
      "photoUrl": "https://lh3.googleusercontent.com/a-/AOh14Gh1Pd8OuWJU2cv7uTt-fURrgvty7atx_Wtarmx0-A=s64",
      "userId": "08475661575434032088"
     },
     "user_tz": -540
    },
    "id": "JNjUwfhwXPjq",
    "outputId": "4ef8177e-a174-491d-b230-8be961cc9eaa",
    "scrolled": true
   },
   "outputs": [
    {
     "data": {
      "text/html": [
       "<div>\n",
       "<style scoped>\n",
       "    .dataframe tbody tr th:only-of-type {\n",
       "        vertical-align: middle;\n",
       "    }\n",
       "\n",
       "    .dataframe tbody tr th {\n",
       "        vertical-align: top;\n",
       "    }\n",
       "\n",
       "    .dataframe thead th {\n",
       "        text-align: right;\n",
       "    }\n",
       "</style>\n",
       "<table border=\"1\" class=\"dataframe\">\n",
       "  <thead>\n",
       "    <tr style=\"text-align: right;\">\n",
       "      <th></th>\n",
       "      <th>2020-08</th>\n",
       "      <th>2020-09</th>\n",
       "      <th>2020-10</th>\n",
       "      <th>2020-11</th>\n",
       "      <th>2020-12</th>\n",
       "      <th>2021-01</th>\n",
       "      <th>2021-02</th>\n",
       "      <th>2021-03</th>\n",
       "      <th>2021-04</th>\n",
       "      <th>2021-05</th>\n",
       "      <th>2021-06</th>\n",
       "      <th>2021-07</th>\n",
       "    </tr>\n",
       "  </thead>\n",
       "  <tbody>\n",
       "    <tr>\n",
       "      <th>count</th>\n",
       "      <td>1.870000e+02</td>\n",
       "      <td>1.870000e+02</td>\n",
       "      <td>1.870000e+02</td>\n",
       "      <td>1.870000e+02</td>\n",
       "      <td>1.870000e+02</td>\n",
       "      <td>1.870000e+02</td>\n",
       "      <td>1.870000e+02</td>\n",
       "      <td>1.870000e+02</td>\n",
       "      <td>1.870000e+02</td>\n",
       "      <td>1.870000e+02</td>\n",
       "      <td>1.870000e+02</td>\n",
       "      <td>1.870000e+02</td>\n",
       "    </tr>\n",
       "    <tr>\n",
       "      <th>mean</th>\n",
       "      <td>3.429660e+05</td>\n",
       "      <td>3.456397e+05</td>\n",
       "      <td>3.478531e+05</td>\n",
       "      <td>3.492826e+05</td>\n",
       "      <td>3.518816e+05</td>\n",
       "      <td>3.563870e+05</td>\n",
       "      <td>3.603933e+05</td>\n",
       "      <td>3.653163e+05</td>\n",
       "      <td>3.688655e+05</td>\n",
       "      <td>3.723293e+05</td>\n",
       "      <td>3.757256e+05</td>\n",
       "      <td>3.816681e+05</td>\n",
       "    </tr>\n",
       "    <tr>\n",
       "      <th>std</th>\n",
       "      <td>2.835917e+05</td>\n",
       "      <td>2.855867e+05</td>\n",
       "      <td>2.868470e+05</td>\n",
       "      <td>2.873621e+05</td>\n",
       "      <td>2.880428e+05</td>\n",
       "      <td>2.892677e+05</td>\n",
       "      <td>2.912634e+05</td>\n",
       "      <td>2.942345e+05</td>\n",
       "      <td>2.956551e+05</td>\n",
       "      <td>2.972473e+05</td>\n",
       "      <td>2.991623e+05</td>\n",
       "      <td>3.030026e+05</td>\n",
       "    </tr>\n",
       "    <tr>\n",
       "      <th>min</th>\n",
       "      <td>7.837500e+04</td>\n",
       "      <td>7.837500e+04</td>\n",
       "      <td>7.818800e+04</td>\n",
       "      <td>7.820800e+04</td>\n",
       "      <td>7.825000e+04</td>\n",
       "      <td>7.814600e+04</td>\n",
       "      <td>7.812500e+04</td>\n",
       "      <td>7.818800e+04</td>\n",
       "      <td>7.831300e+04</td>\n",
       "      <td>7.812500e+04</td>\n",
       "      <td>7.820800e+04</td>\n",
       "      <td>7.833300e+04</td>\n",
       "    </tr>\n",
       "    <tr>\n",
       "      <th>25%</th>\n",
       "      <td>1.618390e+05</td>\n",
       "      <td>1.626765e+05</td>\n",
       "      <td>1.633895e+05</td>\n",
       "      <td>1.635535e+05</td>\n",
       "      <td>1.632735e+05</td>\n",
       "      <td>1.637785e+05</td>\n",
       "      <td>1.641690e+05</td>\n",
       "      <td>1.663785e+05</td>\n",
       "      <td>1.683925e+05</td>\n",
       "      <td>1.702530e+05</td>\n",
       "      <td>1.719605e+05</td>\n",
       "      <td>1.744370e+05</td>\n",
       "    </tr>\n",
       "    <tr>\n",
       "      <th>50%</th>\n",
       "      <td>2.469320e+05</td>\n",
       "      <td>2.493830e+05</td>\n",
       "      <td>2.500550e+05</td>\n",
       "      <td>2.523670e+05</td>\n",
       "      <td>2.529710e+05</td>\n",
       "      <td>2.557350e+05</td>\n",
       "      <td>2.577230e+05</td>\n",
       "      <td>2.612110e+05</td>\n",
       "      <td>2.661170e+05</td>\n",
       "      <td>2.703280e+05</td>\n",
       "      <td>2.763280e+05</td>\n",
       "      <td>2.807330e+05</td>\n",
       "    </tr>\n",
       "    <tr>\n",
       "      <th>75%</th>\n",
       "      <td>4.236115e+05</td>\n",
       "      <td>4.269300e+05</td>\n",
       "      <td>4.318980e+05</td>\n",
       "      <td>4.385925e+05</td>\n",
       "      <td>4.446290e+05</td>\n",
       "      <td>4.549485e+05</td>\n",
       "      <td>4.633750e+05</td>\n",
       "      <td>4.712285e+05</td>\n",
       "      <td>4.768195e+05</td>\n",
       "      <td>4.827720e+05</td>\n",
       "      <td>4.873345e+05</td>\n",
       "      <td>4.946470e+05</td>\n",
       "    </tr>\n",
       "    <tr>\n",
       "      <th>max</th>\n",
       "      <td>1.751014e+06</td>\n",
       "      <td>1.757795e+06</td>\n",
       "      <td>1.759164e+06</td>\n",
       "      <td>1.759747e+06</td>\n",
       "      <td>1.761322e+06</td>\n",
       "      <td>1.771322e+06</td>\n",
       "      <td>1.783411e+06</td>\n",
       "      <td>1.797521e+06</td>\n",
       "      <td>1.807781e+06</td>\n",
       "      <td>1.818192e+06</td>\n",
       "      <td>1.834199e+06</td>\n",
       "      <td>1.873390e+06</td>\n",
       "    </tr>\n",
       "  </tbody>\n",
       "</table>\n",
       "</div>"
      ],
      "text/plain": [
       "            2020-08       2020-09       2020-10       2020-11       2020-12  \\\n",
       "count  1.870000e+02  1.870000e+02  1.870000e+02  1.870000e+02  1.870000e+02   \n",
       "mean   3.429660e+05  3.456397e+05  3.478531e+05  3.492826e+05  3.518816e+05   \n",
       "std    2.835917e+05  2.855867e+05  2.868470e+05  2.873621e+05  2.880428e+05   \n",
       "min    7.837500e+04  7.837500e+04  7.818800e+04  7.820800e+04  7.825000e+04   \n",
       "25%    1.618390e+05  1.626765e+05  1.633895e+05  1.635535e+05  1.632735e+05   \n",
       "50%    2.469320e+05  2.493830e+05  2.500550e+05  2.523670e+05  2.529710e+05   \n",
       "75%    4.236115e+05  4.269300e+05  4.318980e+05  4.385925e+05  4.446290e+05   \n",
       "max    1.751014e+06  1.757795e+06  1.759164e+06  1.759747e+06  1.761322e+06   \n",
       "\n",
       "            2021-01       2021-02       2021-03       2021-04       2021-05  \\\n",
       "count  1.870000e+02  1.870000e+02  1.870000e+02  1.870000e+02  1.870000e+02   \n",
       "mean   3.563870e+05  3.603933e+05  3.653163e+05  3.688655e+05  3.723293e+05   \n",
       "std    2.892677e+05  2.912634e+05  2.942345e+05  2.956551e+05  2.972473e+05   \n",
       "min    7.814600e+04  7.812500e+04  7.818800e+04  7.831300e+04  7.812500e+04   \n",
       "25%    1.637785e+05  1.641690e+05  1.663785e+05  1.683925e+05  1.702530e+05   \n",
       "50%    2.557350e+05  2.577230e+05  2.612110e+05  2.661170e+05  2.703280e+05   \n",
       "75%    4.549485e+05  4.633750e+05  4.712285e+05  4.768195e+05  4.827720e+05   \n",
       "max    1.771322e+06  1.783411e+06  1.797521e+06  1.807781e+06  1.818192e+06   \n",
       "\n",
       "            2021-06       2021-07  \n",
       "count  1.870000e+02  1.870000e+02  \n",
       "mean   3.757256e+05  3.816681e+05  \n",
       "std    2.991623e+05  3.030026e+05  \n",
       "min    7.820800e+04  7.833300e+04  \n",
       "25%    1.719605e+05  1.744370e+05  \n",
       "50%    2.763280e+05  2.807330e+05  \n",
       "75%    4.873345e+05  4.946470e+05  \n",
       "max    1.834199e+06  1.873390e+06  "
      ]
     },
     "execution_count": 33,
     "metadata": {},
     "output_type": "execute_result"
    }
   ],
   "source": [
    "# 기초통계정보 확인\n",
    "apart.describe()"
   ]
  },
  {
   "cell_type": "markdown",
   "metadata": {
    "id": "etPLyqBrXLY0"
   },
   "source": [
    "**5) 기초통계정보 확인**\n",
    "\n",
    "- 지수법을 생략하여 기초통계정보를 확인합니다."
   ]
  },
  {
   "cell_type": "code",
   "execution_count": 34,
   "metadata": {
    "colab": {
     "base_uri": "https://localhost:8080/"
    },
    "executionInfo": {
     "elapsed": 19,
     "status": "ok",
     "timestamp": 1639813493215,
     "user": {
      "displayName": "Jangrae Lee",
      "photoUrl": "https://lh3.googleusercontent.com/a-/AOh14Gh1Pd8OuWJU2cv7uTt-fURrgvty7atx_Wtarmx0-A=s64",
      "userId": "08475661575434032088"
     },
     "user_tz": -540
    },
    "id": "JNjUwfhwXPjq",
    "outputId": "4ef8177e-a174-491d-b230-8be961cc9eaa",
    "scrolled": true
   },
   "outputs": [
    {
     "data": {
      "text/html": [
       "<div>\n",
       "<style scoped>\n",
       "    .dataframe tbody tr th:only-of-type {\n",
       "        vertical-align: middle;\n",
       "    }\n",
       "\n",
       "    .dataframe tbody tr th {\n",
       "        vertical-align: top;\n",
       "    }\n",
       "\n",
       "    .dataframe thead th {\n",
       "        text-align: right;\n",
       "    }\n",
       "</style>\n",
       "<table border=\"1\" class=\"dataframe\">\n",
       "  <thead>\n",
       "    <tr style=\"text-align: right;\">\n",
       "      <th></th>\n",
       "      <th>2020-08</th>\n",
       "      <th>2020-09</th>\n",
       "      <th>2020-10</th>\n",
       "      <th>2020-11</th>\n",
       "      <th>2020-12</th>\n",
       "      <th>2021-01</th>\n",
       "      <th>2021-02</th>\n",
       "      <th>2021-03</th>\n",
       "      <th>2021-04</th>\n",
       "      <th>2021-05</th>\n",
       "      <th>2021-06</th>\n",
       "      <th>2021-07</th>\n",
       "    </tr>\n",
       "  </thead>\n",
       "  <tbody>\n",
       "    <tr>\n",
       "      <th>count</th>\n",
       "      <td>187</td>\n",
       "      <td>187</td>\n",
       "      <td>187</td>\n",
       "      <td>187</td>\n",
       "      <td>187</td>\n",
       "      <td>187</td>\n",
       "      <td>187</td>\n",
       "      <td>187</td>\n",
       "      <td>187</td>\n",
       "      <td>187</td>\n",
       "      <td>187</td>\n",
       "      <td>187</td>\n",
       "    </tr>\n",
       "    <tr>\n",
       "      <th>mean</th>\n",
       "      <td>342,966</td>\n",
       "      <td>345,640</td>\n",
       "      <td>347,853</td>\n",
       "      <td>349,283</td>\n",
       "      <td>351,882</td>\n",
       "      <td>356,387</td>\n",
       "      <td>360,393</td>\n",
       "      <td>365,316</td>\n",
       "      <td>368,865</td>\n",
       "      <td>372,329</td>\n",
       "      <td>375,726</td>\n",
       "      <td>381,668</td>\n",
       "    </tr>\n",
       "    <tr>\n",
       "      <th>std</th>\n",
       "      <td>283,592</td>\n",
       "      <td>285,587</td>\n",
       "      <td>286,847</td>\n",
       "      <td>287,362</td>\n",
       "      <td>288,043</td>\n",
       "      <td>289,268</td>\n",
       "      <td>291,263</td>\n",
       "      <td>294,235</td>\n",
       "      <td>295,655</td>\n",
       "      <td>297,247</td>\n",
       "      <td>299,162</td>\n",
       "      <td>303,003</td>\n",
       "    </tr>\n",
       "    <tr>\n",
       "      <th>min</th>\n",
       "      <td>78,375</td>\n",
       "      <td>78,375</td>\n",
       "      <td>78,188</td>\n",
       "      <td>78,208</td>\n",
       "      <td>78,250</td>\n",
       "      <td>78,146</td>\n",
       "      <td>78,125</td>\n",
       "      <td>78,188</td>\n",
       "      <td>78,313</td>\n",
       "      <td>78,125</td>\n",
       "      <td>78,208</td>\n",
       "      <td>78,333</td>\n",
       "    </tr>\n",
       "    <tr>\n",
       "      <th>25%</th>\n",
       "      <td>161,839</td>\n",
       "      <td>162,676</td>\n",
       "      <td>163,390</td>\n",
       "      <td>163,554</td>\n",
       "      <td>163,274</td>\n",
       "      <td>163,778</td>\n",
       "      <td>164,169</td>\n",
       "      <td>166,378</td>\n",
       "      <td>168,392</td>\n",
       "      <td>170,253</td>\n",
       "      <td>171,960</td>\n",
       "      <td>174,437</td>\n",
       "    </tr>\n",
       "    <tr>\n",
       "      <th>50%</th>\n",
       "      <td>246,932</td>\n",
       "      <td>249,383</td>\n",
       "      <td>250,055</td>\n",
       "      <td>252,367</td>\n",
       "      <td>252,971</td>\n",
       "      <td>255,735</td>\n",
       "      <td>257,723</td>\n",
       "      <td>261,211</td>\n",
       "      <td>266,117</td>\n",
       "      <td>270,328</td>\n",
       "      <td>276,328</td>\n",
       "      <td>280,733</td>\n",
       "    </tr>\n",
       "    <tr>\n",
       "      <th>75%</th>\n",
       "      <td>423,612</td>\n",
       "      <td>426,930</td>\n",
       "      <td>431,898</td>\n",
       "      <td>438,592</td>\n",
       "      <td>444,629</td>\n",
       "      <td>454,948</td>\n",
       "      <td>463,375</td>\n",
       "      <td>471,228</td>\n",
       "      <td>476,820</td>\n",
       "      <td>482,772</td>\n",
       "      <td>487,334</td>\n",
       "      <td>494,647</td>\n",
       "    </tr>\n",
       "    <tr>\n",
       "      <th>max</th>\n",
       "      <td>1,751,014</td>\n",
       "      <td>1,757,795</td>\n",
       "      <td>1,759,164</td>\n",
       "      <td>1,759,747</td>\n",
       "      <td>1,761,322</td>\n",
       "      <td>1,771,322</td>\n",
       "      <td>1,783,411</td>\n",
       "      <td>1,797,521</td>\n",
       "      <td>1,807,781</td>\n",
       "      <td>1,818,192</td>\n",
       "      <td>1,834,199</td>\n",
       "      <td>1,873,390</td>\n",
       "    </tr>\n",
       "  </tbody>\n",
       "</table>\n",
       "</div>"
      ],
      "text/plain": [
       "         2020-08    2020-09    2020-10    2020-11    2020-12    2021-01  \\\n",
       "count        187        187        187        187        187        187   \n",
       "mean     342,966    345,640    347,853    349,283    351,882    356,387   \n",
       "std      283,592    285,587    286,847    287,362    288,043    289,268   \n",
       "min       78,375     78,375     78,188     78,208     78,250     78,146   \n",
       "25%      161,839    162,676    163,390    163,554    163,274    163,778   \n",
       "50%      246,932    249,383    250,055    252,367    252,971    255,735   \n",
       "75%      423,612    426,930    431,898    438,592    444,629    454,948   \n",
       "max    1,751,014  1,757,795  1,759,164  1,759,747  1,761,322  1,771,322   \n",
       "\n",
       "         2021-02    2021-03    2021-04    2021-05    2021-06    2021-07  \n",
       "count        187        187        187        187        187        187  \n",
       "mean     360,393    365,316    368,865    372,329    375,726    381,668  \n",
       "std      291,263    294,235    295,655    297,247    299,162    303,003  \n",
       "min       78,125     78,188     78,313     78,125     78,208     78,333  \n",
       "25%      164,169    166,378    168,392    170,253    171,960    174,437  \n",
       "50%      257,723    261,211    266,117    270,328    276,328    280,733  \n",
       "75%      463,375    471,228    476,820    482,772    487,334    494,647  \n",
       "max    1,783,411  1,797,521  1,807,781  1,818,192  1,834,199  1,873,390  "
      ]
     },
     "execution_count": 34,
     "metadata": {},
     "output_type": "execute_result"
    }
   ],
   "source": [
    "# 기초통계정보 확인\n",
    "apart.describe().apply(lambda x: x.apply('{0:,.0f}'.format))"
   ]
  },
  {
   "cell_type": "markdown",
   "metadata": {
    "id": "YNUv-USzuLiW"
   },
   "source": [
    "## 3.데이터 전처리\n",
    "전처리 과정에서 다음과 같은 처리를 할 수 있습니다.\n",
    "\n",
    "- 결측치 처리\n",
    "- 값 변경\n",
    "- 열 추가\n",
    "- 불필요한 열 제거\n",
    "- 열 이름 변경\n",
    "- 데이터 통합(연결 또는 조인)\n",
    "- 가변수화 등"
   ]
  },
  {
   "cell_type": "markdown",
   "metadata": {
    "id": "eIFnXi_b0Kcy"
   },
   "source": [
    "**1) 열 이름 변경**\n",
    "\n",
    "- 지역1, 지역2 열 이름을 각각 '시도', '구군'으로 변경합니다."
   ]
  },
  {
   "cell_type": "code",
   "execution_count": 35,
   "metadata": {
    "colab": {
     "base_uri": "https://localhost:8080/",
     "height": 206
    },
    "executionInfo": {
     "elapsed": 17,
     "status": "ok",
     "timestamp": 1639813493216,
     "user": {
      "displayName": "Jangrae Lee",
      "photoUrl": "https://lh3.googleusercontent.com/a-/AOh14Gh1Pd8OuWJU2cv7uTt-fURrgvty7atx_Wtarmx0-A=s64",
      "userId": "08475661575434032088"
     },
     "user_tz": -540
    },
    "id": "lg7oeEFuXzam",
    "outputId": "8840855e-6d9f-417c-8fed-ab14fd810104"
   },
   "outputs": [
    {
     "data": {
      "text/html": [
       "<div>\n",
       "<style scoped>\n",
       "    .dataframe tbody tr th:only-of-type {\n",
       "        vertical-align: middle;\n",
       "    }\n",
       "\n",
       "    .dataframe tbody tr th {\n",
       "        vertical-align: top;\n",
       "    }\n",
       "\n",
       "    .dataframe thead th {\n",
       "        text-align: right;\n",
       "    }\n",
       "</style>\n",
       "<table border=\"1\" class=\"dataframe\">\n",
       "  <thead>\n",
       "    <tr style=\"text-align: right;\">\n",
       "      <th></th>\n",
       "      <th>시도</th>\n",
       "      <th>구군</th>\n",
       "      <th>2020-08</th>\n",
       "      <th>2020-09</th>\n",
       "      <th>2020-10</th>\n",
       "      <th>2020-11</th>\n",
       "      <th>2020-12</th>\n",
       "      <th>2021-01</th>\n",
       "      <th>2021-02</th>\n",
       "      <th>2021-03</th>\n",
       "      <th>2021-04</th>\n",
       "      <th>2021-05</th>\n",
       "      <th>2021-06</th>\n",
       "      <th>2021-07</th>\n",
       "    </tr>\n",
       "  </thead>\n",
       "  <tbody>\n",
       "    <tr>\n",
       "      <th>0</th>\n",
       "      <td>서울</td>\n",
       "      <td>종로구</td>\n",
       "      <td>1029542</td>\n",
       "      <td>1033625</td>\n",
       "      <td>1036486</td>\n",
       "      <td>1036681</td>\n",
       "      <td>1037986</td>\n",
       "      <td>1039903</td>\n",
       "      <td>1041444</td>\n",
       "      <td>1044347</td>\n",
       "      <td>1045819</td>\n",
       "      <td>1047819</td>\n",
       "      <td>1048722</td>\n",
       "      <td>1050750</td>\n",
       "    </tr>\n",
       "    <tr>\n",
       "      <th>1</th>\n",
       "      <td>서울</td>\n",
       "      <td>중구</td>\n",
       "      <td>802257</td>\n",
       "      <td>806143</td>\n",
       "      <td>807771</td>\n",
       "      <td>808743</td>\n",
       "      <td>809900</td>\n",
       "      <td>812157</td>\n",
       "      <td>814614</td>\n",
       "      <td>820100</td>\n",
       "      <td>822257</td>\n",
       "      <td>823314</td>\n",
       "      <td>824371</td>\n",
       "      <td>829486</td>\n",
       "    </tr>\n",
       "    <tr>\n",
       "      <th>2</th>\n",
       "      <td>서울</td>\n",
       "      <td>용산구</td>\n",
       "      <td>1399354</td>\n",
       "      <td>1406439</td>\n",
       "      <td>1411232</td>\n",
       "      <td>1412659</td>\n",
       "      <td>1413768</td>\n",
       "      <td>1416951</td>\n",
       "      <td>1421012</td>\n",
       "      <td>1427366</td>\n",
       "      <td>1430780</td>\n",
       "      <td>1434768</td>\n",
       "      <td>1439390</td>\n",
       "      <td>1445073</td>\n",
       "    </tr>\n",
       "    <tr>\n",
       "      <th>3</th>\n",
       "      <td>서울</td>\n",
       "      <td>성동구</td>\n",
       "      <td>910716</td>\n",
       "      <td>916402</td>\n",
       "      <td>918667</td>\n",
       "      <td>920020</td>\n",
       "      <td>921108</td>\n",
       "      <td>923402</td>\n",
       "      <td>927029</td>\n",
       "      <td>934049</td>\n",
       "      <td>938029</td>\n",
       "      <td>940000</td>\n",
       "      <td>942235</td>\n",
       "      <td>947157</td>\n",
       "    </tr>\n",
       "    <tr>\n",
       "      <th>4</th>\n",
       "      <td>서울</td>\n",
       "      <td>광진구</td>\n",
       "      <td>1021037</td>\n",
       "      <td>1025866</td>\n",
       "      <td>1029256</td>\n",
       "      <td>1030878</td>\n",
       "      <td>1032220</td>\n",
       "      <td>1034524</td>\n",
       "      <td>1038378</td>\n",
       "      <td>1047439</td>\n",
       "      <td>1053024</td>\n",
       "      <td>1056524</td>\n",
       "      <td>1059476</td>\n",
       "      <td>1063805</td>\n",
       "    </tr>\n",
       "  </tbody>\n",
       "</table>\n",
       "</div>"
      ],
      "text/plain": [
       "   시도   구군  2020-08  2020-09  2020-10  2020-11  2020-12  2021-01  2021-02  \\\n",
       "0  서울  종로구  1029542  1033625  1036486  1036681  1037986  1039903  1041444   \n",
       "1  서울   중구   802257   806143   807771   808743   809900   812157   814614   \n",
       "2  서울  용산구  1399354  1406439  1411232  1412659  1413768  1416951  1421012   \n",
       "3  서울  성동구   910716   916402   918667   920020   921108   923402   927029   \n",
       "4  서울  광진구  1021037  1025866  1029256  1030878  1032220  1034524  1038378   \n",
       "\n",
       "   2021-03  2021-04  2021-05  2021-06  2021-07  \n",
       "0  1044347  1045819  1047819  1048722  1050750  \n",
       "1   820100   822257   823314   824371   829486  \n",
       "2  1427366  1430780  1434768  1439390  1445073  \n",
       "3   934049   938029   940000   942235   947157  \n",
       "4  1047439  1053024  1056524  1059476  1063805  "
      ]
     },
     "execution_count": 35,
     "metadata": {},
     "output_type": "execute_result"
    }
   ],
   "source": [
    "# 열 이름 변경\n",
    "apart.rename(columns={'지역1': '시도', '지역2': '구군'}, inplace=True)\n",
    "\n",
    "# 확인\n",
    "apart.head()"
   ]
  },
  {
   "cell_type": "markdown",
   "metadata": {
    "id": "JqEsMLNpYMcx"
   },
   "source": [
    "**2) 열 추가**\n",
    "\n",
    "- 다음 공식을 사용해 '증가액', '증가율' 열을 추가합니다.\n",
    "\n",
    "    - 중가액: 2021년 7월 가격 - 2020년 8월 가격\n",
    "    - 증가율: (2021년 7월 가격 - 2020년 8월 가격) * 100 / 2020년 8월 가격"
   ]
  },
  {
   "cell_type": "code",
   "execution_count": 36,
   "metadata": {
    "colab": {
     "base_uri": "https://localhost:8080/",
     "height": 250
    },
    "executionInfo": {
     "elapsed": 17,
     "status": "ok",
     "timestamp": 1639813493217,
     "user": {
      "displayName": "Jangrae Lee",
      "photoUrl": "https://lh3.googleusercontent.com/a-/AOh14Gh1Pd8OuWJU2cv7uTt-fURrgvty7atx_Wtarmx0-A=s64",
      "userId": "08475661575434032088"
     },
     "user_tz": -540
    },
    "id": "jnp3AuOoYKJK",
    "outputId": "91ef9f4c-9f87-40b4-8bc4-11dc199599dd"
   },
   "outputs": [
    {
     "data": {
      "text/html": [
       "<div>\n",
       "<style scoped>\n",
       "    .dataframe tbody tr th:only-of-type {\n",
       "        vertical-align: middle;\n",
       "    }\n",
       "\n",
       "    .dataframe tbody tr th {\n",
       "        vertical-align: top;\n",
       "    }\n",
       "\n",
       "    .dataframe thead th {\n",
       "        text-align: right;\n",
       "    }\n",
       "</style>\n",
       "<table border=\"1\" class=\"dataframe\">\n",
       "  <thead>\n",
       "    <tr style=\"text-align: right;\">\n",
       "      <th></th>\n",
       "      <th>시도</th>\n",
       "      <th>구군</th>\n",
       "      <th>2020-08</th>\n",
       "      <th>2020-09</th>\n",
       "      <th>2020-10</th>\n",
       "      <th>2020-11</th>\n",
       "      <th>2020-12</th>\n",
       "      <th>2021-01</th>\n",
       "      <th>2021-02</th>\n",
       "      <th>2021-03</th>\n",
       "      <th>2021-04</th>\n",
       "      <th>2021-05</th>\n",
       "      <th>2021-06</th>\n",
       "      <th>2021-07</th>\n",
       "      <th>증가액</th>\n",
       "      <th>증가율</th>\n",
       "    </tr>\n",
       "  </thead>\n",
       "  <tbody>\n",
       "    <tr>\n",
       "      <th>0</th>\n",
       "      <td>서울</td>\n",
       "      <td>종로구</td>\n",
       "      <td>1029542</td>\n",
       "      <td>1033625</td>\n",
       "      <td>1036486</td>\n",
       "      <td>1036681</td>\n",
       "      <td>1037986</td>\n",
       "      <td>1039903</td>\n",
       "      <td>1041444</td>\n",
       "      <td>1044347</td>\n",
       "      <td>1045819</td>\n",
       "      <td>1047819</td>\n",
       "      <td>1048722</td>\n",
       "      <td>1050750</td>\n",
       "      <td>21208</td>\n",
       "      <td>2.059945</td>\n",
       "    </tr>\n",
       "    <tr>\n",
       "      <th>1</th>\n",
       "      <td>서울</td>\n",
       "      <td>중구</td>\n",
       "      <td>802257</td>\n",
       "      <td>806143</td>\n",
       "      <td>807771</td>\n",
       "      <td>808743</td>\n",
       "      <td>809900</td>\n",
       "      <td>812157</td>\n",
       "      <td>814614</td>\n",
       "      <td>820100</td>\n",
       "      <td>822257</td>\n",
       "      <td>823314</td>\n",
       "      <td>824371</td>\n",
       "      <td>829486</td>\n",
       "      <td>27229</td>\n",
       "      <td>3.394050</td>\n",
       "    </tr>\n",
       "    <tr>\n",
       "      <th>2</th>\n",
       "      <td>서울</td>\n",
       "      <td>용산구</td>\n",
       "      <td>1399354</td>\n",
       "      <td>1406439</td>\n",
       "      <td>1411232</td>\n",
       "      <td>1412659</td>\n",
       "      <td>1413768</td>\n",
       "      <td>1416951</td>\n",
       "      <td>1421012</td>\n",
       "      <td>1427366</td>\n",
       "      <td>1430780</td>\n",
       "      <td>1434768</td>\n",
       "      <td>1439390</td>\n",
       "      <td>1445073</td>\n",
       "      <td>45719</td>\n",
       "      <td>3.267150</td>\n",
       "    </tr>\n",
       "    <tr>\n",
       "      <th>3</th>\n",
       "      <td>서울</td>\n",
       "      <td>성동구</td>\n",
       "      <td>910716</td>\n",
       "      <td>916402</td>\n",
       "      <td>918667</td>\n",
       "      <td>920020</td>\n",
       "      <td>921108</td>\n",
       "      <td>923402</td>\n",
       "      <td>927029</td>\n",
       "      <td>934049</td>\n",
       "      <td>938029</td>\n",
       "      <td>940000</td>\n",
       "      <td>942235</td>\n",
       "      <td>947157</td>\n",
       "      <td>36441</td>\n",
       "      <td>4.001357</td>\n",
       "    </tr>\n",
       "    <tr>\n",
       "      <th>4</th>\n",
       "      <td>서울</td>\n",
       "      <td>광진구</td>\n",
       "      <td>1021037</td>\n",
       "      <td>1025866</td>\n",
       "      <td>1029256</td>\n",
       "      <td>1030878</td>\n",
       "      <td>1032220</td>\n",
       "      <td>1034524</td>\n",
       "      <td>1038378</td>\n",
       "      <td>1047439</td>\n",
       "      <td>1053024</td>\n",
       "      <td>1056524</td>\n",
       "      <td>1059476</td>\n",
       "      <td>1063805</td>\n",
       "      <td>42768</td>\n",
       "      <td>4.188683</td>\n",
       "    </tr>\n",
       "  </tbody>\n",
       "</table>\n",
       "</div>"
      ],
      "text/plain": [
       "   시도   구군  2020-08  2020-09  2020-10  2020-11  2020-12  2021-01  2021-02  \\\n",
       "0  서울  종로구  1029542  1033625  1036486  1036681  1037986  1039903  1041444   \n",
       "1  서울   중구   802257   806143   807771   808743   809900   812157   814614   \n",
       "2  서울  용산구  1399354  1406439  1411232  1412659  1413768  1416951  1421012   \n",
       "3  서울  성동구   910716   916402   918667   920020   921108   923402   927029   \n",
       "4  서울  광진구  1021037  1025866  1029256  1030878  1032220  1034524  1038378   \n",
       "\n",
       "   2021-03  2021-04  2021-05  2021-06  2021-07    증가액       증가율  \n",
       "0  1044347  1045819  1047819  1048722  1050750  21208  2.059945  \n",
       "1   820100   822257   823314   824371   829486  27229  3.394050  \n",
       "2  1427366  1430780  1434768  1439390  1445073  45719  3.267150  \n",
       "3   934049   938029   940000   942235   947157  36441  4.001357  \n",
       "4  1047439  1053024  1056524  1059476  1063805  42768  4.188683  "
      ]
     },
     "execution_count": 36,
     "metadata": {},
     "output_type": "execute_result"
    }
   ],
   "source": [
    "# 연간 증가액\n",
    "apart['증가액'] = apart['2021-07'] - apart['2020-08']\n",
    "\n",
    "# 연간 증가율\n",
    "apart['증가율'] = (apart['2021-07'] - apart['2020-08']) * 100 / apart['2020-08']\n",
    "\n",
    "# 확인\n",
    "apart.head()"
   ]
  },
  {
   "cell_type": "markdown",
   "metadata": {
    "id": "tJXf7lyZr0SV"
   },
   "source": [
    "**3) 불필요한 열 제거**\n",
    "\n",
    "- 시도, 구군, 증가액, 증가율 열만 추출하여 apart2 데이터프레임을 선언합니다.\n",
    "- 이후 모든 작업은 apart2 데이터프레임을 대상으로 합니다."
   ]
  },
  {
   "cell_type": "code",
   "execution_count": 37,
   "metadata": {
    "colab": {
     "base_uri": "https://localhost:8080/",
     "height": 206
    },
    "executionInfo": {
     "elapsed": 16,
     "status": "ok",
     "timestamp": 1639813493217,
     "user": {
      "displayName": "Jangrae Lee",
      "photoUrl": "https://lh3.googleusercontent.com/a-/AOh14Gh1Pd8OuWJU2cv7uTt-fURrgvty7atx_Wtarmx0-A=s64",
      "userId": "08475661575434032088"
     },
     "user_tz": -540
    },
    "id": "Q0T85iQAZ_Ye",
    "outputId": "e6c978a2-e087-4116-bfb8-d7f90e96b67d"
   },
   "outputs": [
    {
     "data": {
      "text/html": [
       "<div>\n",
       "<style scoped>\n",
       "    .dataframe tbody tr th:only-of-type {\n",
       "        vertical-align: middle;\n",
       "    }\n",
       "\n",
       "    .dataframe tbody tr th {\n",
       "        vertical-align: top;\n",
       "    }\n",
       "\n",
       "    .dataframe thead th {\n",
       "        text-align: right;\n",
       "    }\n",
       "</style>\n",
       "<table border=\"1\" class=\"dataframe\">\n",
       "  <thead>\n",
       "    <tr style=\"text-align: right;\">\n",
       "      <th></th>\n",
       "      <th>시도</th>\n",
       "      <th>구군</th>\n",
       "      <th>증가액</th>\n",
       "      <th>증가율</th>\n",
       "    </tr>\n",
       "  </thead>\n",
       "  <tbody>\n",
       "    <tr>\n",
       "      <th>0</th>\n",
       "      <td>서울</td>\n",
       "      <td>종로구</td>\n",
       "      <td>21208</td>\n",
       "      <td>2.059945</td>\n",
       "    </tr>\n",
       "    <tr>\n",
       "      <th>1</th>\n",
       "      <td>서울</td>\n",
       "      <td>중구</td>\n",
       "      <td>27229</td>\n",
       "      <td>3.394050</td>\n",
       "    </tr>\n",
       "    <tr>\n",
       "      <th>2</th>\n",
       "      <td>서울</td>\n",
       "      <td>용산구</td>\n",
       "      <td>45719</td>\n",
       "      <td>3.267150</td>\n",
       "    </tr>\n",
       "    <tr>\n",
       "      <th>3</th>\n",
       "      <td>서울</td>\n",
       "      <td>성동구</td>\n",
       "      <td>36441</td>\n",
       "      <td>4.001357</td>\n",
       "    </tr>\n",
       "    <tr>\n",
       "      <th>4</th>\n",
       "      <td>서울</td>\n",
       "      <td>광진구</td>\n",
       "      <td>42768</td>\n",
       "      <td>4.188683</td>\n",
       "    </tr>\n",
       "  </tbody>\n",
       "</table>\n",
       "</div>"
      ],
      "text/plain": [
       "   시도   구군    증가액       증가율\n",
       "0  서울  종로구  21208  2.059945\n",
       "1  서울   중구  27229  3.394050\n",
       "2  서울  용산구  45719  3.267150\n",
       "3  서울  성동구  36441  4.001357\n",
       "4  서울  광진구  42768  4.188683"
      ]
     },
     "execution_count": 37,
     "metadata": {},
     "output_type": "execute_result"
    }
   ],
   "source": [
    "# 분석 대상 열 지정\n",
    "apart2 = apart[['시도', '구군', '증가액', '증가율']]\n",
    "\n",
    "# 확인\n",
    "apart2.head()"
   ]
  },
  {
   "cell_type": "markdown",
   "metadata": {
    "id": "gAYdREQRrqyC"
   },
   "source": [
    "## 4.데이터 분석\n",
    "\n",
    "- 데이터를 집계하고 간단히 시각화하여 분석합니다.\n",
    "- 연속형 값은 선 그래프, 범주형 값은 막대 그래프로 시각화함이 일반적입니다."
   ]
  },
  {
   "cell_type": "markdown",
   "metadata": {
    "id": "qhlQ77OmKeTp"
   },
   "source": [
    "### 4.1.전국 분석"
   ]
  },
  {
   "cell_type": "markdown",
   "metadata": {
    "id": "EejrutyKKjLO"
   },
   "source": [
    "**1) 가격 변동 현황**\n",
    "\n",
    "- 구군의 아파트 매매가 증가액을 막대 그래프로 시각화해 확인합니다."
   ]
  },
  {
   "cell_type": "code",
   "execution_count": 38,
   "metadata": {
    "colab": {
     "base_uri": "https://localhost:8080/",
     "height": 348
    },
    "executionInfo": {
     "elapsed": 737,
     "status": "ok",
     "timestamp": 1639813493939,
     "user": {
      "displayName": "Jangrae Lee",
      "photoUrl": "https://lh3.googleusercontent.com/a-/AOh14Gh1Pd8OuWJU2cv7uTt-fURrgvty7atx_Wtarmx0-A=s64",
      "userId": "08475661575434032088"
     },
     "user_tz": -540
    },
    "id": "w3IYrva6t9BV",
    "outputId": "a308d277-e00b-4424-f018-8a829072a764"
   },
   "outputs": [
    {
     "data": {
      "image/png": "[encoded data removed]",
      "text/plain": [
       "<Figure size 720x360 with 1 Axes>"
      ]
     },
     "metadata": {
      "image/png": {
       "height": 383,
       "width": 626
      },
      "needs_background": "light"
     },
     "output_type": "display_data"
    }
   ],
   "source": [
    "# 차트 그리기\n",
    "tmp = apart2.head(25)\n",
    "plt.figure(figsize=(10, 5))\n",
    "plt.bar(tmp['구군'], tmp['증가액'])\n",
    "plt.title('아파트 평균 매매가', fontsize=20, pad=20)\n",
    "plt.xlabel('구군')\n",
    "plt.ylabel('매매가(천원)')\n",
    "plt.xticks(rotation=70)\n",
    "plt.show()"
   ]
  },
  {
   "cell_type": "markdown",
   "metadata": {
    "id": "4DNG6jQ9LUnl"
   },
   "source": [
    "**2) 가격 변동 TOP 25**\n",
    "\n",
    "- 증가액 기준으로 상위 25개 행을 추출해 tmp 데이터프레임을 선언합니다."
   ]
  },
  {
   "cell_type": "code",
   "execution_count": 39,
   "metadata": {
    "colab": {
     "base_uri": "https://localhost:8080/",
     "height": 206
    },
    "executionInfo": {
     "elapsed": 10,
     "status": "ok",
     "timestamp": 1639813493940,
     "user": {
      "displayName": "Jangrae Lee",
      "photoUrl": "https://lh3.googleusercontent.com/a-/AOh14Gh1Pd8OuWJU2cv7uTt-fURrgvty7atx_Wtarmx0-A=s64",
      "userId": "08475661575434032088"
     },
     "user_tz": -540
    },
    "id": "dVOBScV1Lu5x",
    "outputId": "6dd30806-eef9-42c2-8958-f3e476bca495"
   },
   "outputs": [
    {
     "data": {
      "text/html": [
       "<div>\n",
       "<style scoped>\n",
       "    .dataframe tbody tr th:only-of-type {\n",
       "        vertical-align: middle;\n",
       "    }\n",
       "\n",
       "    .dataframe tbody tr th {\n",
       "        vertical-align: top;\n",
       "    }\n",
       "\n",
       "    .dataframe thead th {\n",
       "        text-align: right;\n",
       "    }\n",
       "</style>\n",
       "<table border=\"1\" class=\"dataframe\">\n",
       "  <thead>\n",
       "    <tr style=\"text-align: right;\">\n",
       "      <th></th>\n",
       "      <th>시도</th>\n",
       "      <th>구군</th>\n",
       "      <th>증가액</th>\n",
       "      <th>증가율</th>\n",
       "    </tr>\n",
       "  </thead>\n",
       "  <tbody>\n",
       "    <tr>\n",
       "      <th>28</th>\n",
       "      <td>경기</td>\n",
       "      <td>동안구</td>\n",
       "      <td>144265</td>\n",
       "      <td>25.019033</td>\n",
       "    </tr>\n",
       "    <tr>\n",
       "      <th>34</th>\n",
       "      <td>경기</td>\n",
       "      <td>의왕시</td>\n",
       "      <td>141787</td>\n",
       "      <td>28.618515</td>\n",
       "    </tr>\n",
       "    <tr>\n",
       "      <th>99</th>\n",
       "      <td>대구</td>\n",
       "      <td>수성구</td>\n",
       "      <td>132345</td>\n",
       "      <td>25.655664</td>\n",
       "    </tr>\n",
       "    <tr>\n",
       "      <th>86</th>\n",
       "      <td>부산</td>\n",
       "      <td>해운대구</td>\n",
       "      <td>123977</td>\n",
       "      <td>30.789194</td>\n",
       "    </tr>\n",
       "    <tr>\n",
       "      <th>21</th>\n",
       "      <td>서울</td>\n",
       "      <td>서초구</td>\n",
       "      <td>122376</td>\n",
       "      <td>6.988865</td>\n",
       "    </tr>\n",
       "  </tbody>\n",
       "</table>\n",
       "</div>"
      ],
      "text/plain": [
       "    시도    구군     증가액        증가율\n",
       "28  경기   동안구  144265  25.019033\n",
       "34  경기   의왕시  141787  28.618515\n",
       "99  대구   수성구  132345  25.655664\n",
       "86  부산  해운대구  123977  30.789194\n",
       "21  서울   서초구  122376   6.988865"
      ]
     },
     "execution_count": 39,
     "metadata": {},
     "output_type": "execute_result"
    }
   ],
   "source": [
    "# 가격 변동 TOP 25\n",
    "tmp = apart2.sort_values(by='증가액', ascending=False).head(25)\n",
    "\n",
    "# 확인\n",
    "tmp.head()"
   ]
  },
  {
   "cell_type": "markdown",
   "metadata": {
    "id": "rhbqCNaMqRIG"
   },
   "source": [
    "- tmp 데이터프레임을 대상으로 구군별 매매가 증가액을 막대 그래프로 시각화해 확인합니다."
   ]
  },
  {
   "cell_type": "code",
   "execution_count": 40,
   "metadata": {
    "colab": {
     "base_uri": "https://localhost:8080/",
     "height": 348
    },
    "executionInfo": {
     "elapsed": 9,
     "status": "ok",
     "timestamp": 1639813493941,
     "user": {
      "displayName": "Jangrae Lee",
      "photoUrl": "https://lh3.googleusercontent.com/a-/AOh14Gh1Pd8OuWJU2cv7uTt-fURrgvty7atx_Wtarmx0-A=s64",
      "userId": "08475661575434032088"
     },
     "user_tz": -540
    },
    "id": "9UB59HvXJqoc",
    "outputId": "dd1a4ca1-8cd4-42ed-de8c-f7541c5b0778"
   },
   "outputs": [
    {
     "data": {
      "image/png": "[encoded data removed]",
      "text/plain": [
       "<Figure size 720x360 with 1 Axes>"
      ]
     },
     "metadata": {
      "image/png": {
       "height": 383,
       "width": 626
      },
      "needs_background": "light"
     },
     "output_type": "display_data"
    }
   ],
   "source": [
    "# 차트 그리기\n",
    "plt.figure(figsize=(10, 5))\n",
    "plt.bar(tmp['구군'], tmp['증가액'])\n",
    "plt.title('아파트 평균 매매가 TOP 25', fontsize=20, pad=20)\n",
    "plt.xlabel('구군')\n",
    "plt.ylabel('매매가(천원)')\n",
    "plt.xticks(rotation=70)\n",
    "plt.show()"
   ]
  },
  {
   "cell_type": "markdown",
   "metadata": {
    "id": "DXKRXtE3fqOa"
   },
   "source": [
    "**3) 가격 변동 BOTTOM 25**\n",
    "\n",
    "- 증가액 기준으로 하위 25개 행을 추출해 tmp 데이터프레임을 선언합니다."
   ]
  },
  {
   "cell_type": "code",
   "execution_count": 41,
   "metadata": {
    "id": "GnO6iyHrfqOu"
   },
   "outputs": [
    {
     "data": {
      "text/html": [
       "<div>\n",
       "<style scoped>\n",
       "    .dataframe tbody tr th:only-of-type {\n",
       "        vertical-align: middle;\n",
       "    }\n",
       "\n",
       "    .dataframe tbody tr th {\n",
       "        vertical-align: top;\n",
       "    }\n",
       "\n",
       "    .dataframe thead th {\n",
       "        text-align: right;\n",
       "    }\n",
       "</style>\n",
       "<table border=\"1\" class=\"dataframe\">\n",
       "  <thead>\n",
       "    <tr style=\"text-align: right;\">\n",
       "      <th></th>\n",
       "      <th>시도</th>\n",
       "      <th>구군</th>\n",
       "      <th>증가액</th>\n",
       "      <th>증가율</th>\n",
       "    </tr>\n",
       "  </thead>\n",
       "  <tbody>\n",
       "    <tr>\n",
       "      <th>144</th>\n",
       "      <td>충남</td>\n",
       "      <td>당진시</td>\n",
       "      <td>-5264</td>\n",
       "      <td>-3.192857</td>\n",
       "    </tr>\n",
       "    <tr>\n",
       "      <th>180</th>\n",
       "      <td>경남</td>\n",
       "      <td>사천시</td>\n",
       "      <td>-3527</td>\n",
       "      <td>-2.785500</td>\n",
       "    </tr>\n",
       "    <tr>\n",
       "      <th>78</th>\n",
       "      <td>부산</td>\n",
       "      <td>중구</td>\n",
       "      <td>-2645</td>\n",
       "      <td>-1.795253</td>\n",
       "    </tr>\n",
       "    <tr>\n",
       "      <th>158</th>\n",
       "      <td>전남</td>\n",
       "      <td>무안군</td>\n",
       "      <td>-2588</td>\n",
       "      <td>-1.326411</td>\n",
       "    </tr>\n",
       "    <tr>\n",
       "      <th>153</th>\n",
       "      <td>전남</td>\n",
       "      <td>목포시</td>\n",
       "      <td>-2396</td>\n",
       "      <td>-1.624021</td>\n",
       "    </tr>\n",
       "  </tbody>\n",
       "</table>\n",
       "</div>"
      ],
      "text/plain": [
       "     시도   구군   증가액       증가율\n",
       "144  충남  당진시 -5264 -3.192857\n",
       "180  경남  사천시 -3527 -2.785500\n",
       "78   부산   중구 -2645 -1.795253\n",
       "158  전남  무안군 -2588 -1.326411\n",
       "153  전남  목포시 -2396 -1.624021"
      ]
     },
     "execution_count": 41,
     "metadata": {},
     "output_type": "execute_result"
    }
   ],
   "source": [
    "# 가격 변동 BOTTOM 25\n",
    "tmp = apart2.sort_values(by='증가액', ascending=True).head(25)\n",
    "\n",
    "# 확인\n",
    "tmp.head()"
   ]
  },
  {
   "cell_type": "markdown",
   "metadata": {
    "id": "egYSZ7FNq5OE"
   },
   "source": [
    "- tmp 데이터프레임을 대상으로 구군별 매매가 증가액을 막대 그래프로 시각화해 확인합니다."
   ]
  },
  {
   "cell_type": "code",
   "execution_count": 42,
   "metadata": {
    "colab": {
     "base_uri": "https://localhost:8080/",
     "height": 352
    },
    "executionInfo": {
     "elapsed": 617,
     "status": "ok",
     "timestamp": 1639813553485,
     "user": {
      "displayName": "Jangrae Lee",
      "photoUrl": "https://lh3.googleusercontent.com/a-/AOh14Gh1Pd8OuWJU2cv7uTt-fURrgvty7atx_Wtarmx0-A=s64",
      "userId": "08475661575434032088"
     },
     "user_tz": -540
    },
    "id": "FIGG1PLcfqOu",
    "outputId": "4b3d4691-4427-4b4c-dbda-1e90817d1da0"
   },
   "outputs": [
    {
     "data": {
      "image/png": "[encoded data removed]",
      "text/plain": [
       "<Figure size 720x360 with 1 Axes>"
      ]
     },
     "metadata": {
      "image/png": {
       "height": 374,
       "width": 620
      },
      "needs_background": "light"
     },
     "output_type": "display_data"
    }
   ],
   "source": [
    "# 차트 그리기\n",
    "plt.figure(figsize=(10, 5))\n",
    "plt.bar(tmp['구군'], tmp['증가액'])\n",
    "plt.title('아파트 평균 매매가 BOTTOM 25', fontsize=20, pad=20)\n",
    "plt.xlabel('구군')\n",
    "plt.ylabel('매매가(천원)')\n",
    "plt.xticks(rotation=70)\n",
    "plt.show()"
   ]
  },
  {
   "cell_type": "markdown",
   "metadata": {},
   "source": [
    "**4) (추가) 2021년 7월 아파트 평균 매매가 TOP 25**"
   ]
  },
  {
   "cell_type": "code",
   "execution_count": 43,
   "metadata": {
    "scrolled": true
   },
   "outputs": [
    {
     "data": {
      "text/html": [
       "<div>\n",
       "<style scoped>\n",
       "    .dataframe tbody tr th:only-of-type {\n",
       "        vertical-align: middle;\n",
       "    }\n",
       "\n",
       "    .dataframe tbody tr th {\n",
       "        vertical-align: top;\n",
       "    }\n",
       "\n",
       "    .dataframe thead th {\n",
       "        text-align: right;\n",
       "    }\n",
       "</style>\n",
       "<table border=\"1\" class=\"dataframe\">\n",
       "  <thead>\n",
       "    <tr style=\"text-align: right;\">\n",
       "      <th></th>\n",
       "      <th>시도</th>\n",
       "      <th>구군</th>\n",
       "      <th>2021-07</th>\n",
       "    </tr>\n",
       "  </thead>\n",
       "  <tbody>\n",
       "    <tr>\n",
       "      <th>21</th>\n",
       "      <td>서울</td>\n",
       "      <td>서초구</td>\n",
       "      <td>1873390</td>\n",
       "    </tr>\n",
       "    <tr>\n",
       "      <th>22</th>\n",
       "      <td>서울</td>\n",
       "      <td>강남구</td>\n",
       "      <td>1818801</td>\n",
       "    </tr>\n",
       "    <tr>\n",
       "      <th>2</th>\n",
       "      <td>서울</td>\n",
       "      <td>용산구</td>\n",
       "      <td>1445073</td>\n",
       "    </tr>\n",
       "    <tr>\n",
       "      <th>25</th>\n",
       "      <td>경기</td>\n",
       "      <td>과천시</td>\n",
       "      <td>1368271</td>\n",
       "    </tr>\n",
       "    <tr>\n",
       "      <th>23</th>\n",
       "      <td>서울</td>\n",
       "      <td>송파구</td>\n",
       "      <td>1341981</td>\n",
       "    </tr>\n",
       "  </tbody>\n",
       "</table>\n",
       "</div>"
      ],
      "text/plain": [
       "    시도   구군  2021-07\n",
       "21  서울  서초구  1873390\n",
       "22  서울  강남구  1818801\n",
       "2   서울  용산구  1445073\n",
       "25  경기  과천시  1368271\n",
       "23  서울  송파구  1341981"
      ]
     },
     "execution_count": 43,
     "metadata": {},
     "output_type": "execute_result"
    }
   ],
   "source": [
    "# 분석 대상 열 지정\n",
    "apart3 = apart[['시도', '구군', '2021-07']]\n",
    "tmp = apart3.sort_values(by='2021-07', ascending=False).head(25)\n",
    "\n",
    "# 확인\n",
    "tmp.head()"
   ]
  },
  {
   "cell_type": "code",
   "execution_count": 44,
   "metadata": {},
   "outputs": [
    {
     "data": {
      "image/png": "[encoded data removed]",
      "text/plain": [
       "<Figure size 720x360 with 1 Axes>"
      ]
     },
     "metadata": {
      "image/png": {
       "height": 383,
       "width": 612
      },
      "needs_background": "light"
     },
     "output_type": "display_data"
    }
   ],
   "source": [
    "# 차트 그리기\n",
    "plt.figure(figsize=(10, 5))\n",
    "plt.bar(tmp['구군'], tmp['2021-07'])\n",
    "plt.title('2021년 7월 아파트 평균 매매가 TOP 25', fontsize=20, pad=20)\n",
    "plt.xlabel('구군')\n",
    "plt.ylabel('매매가(천원)')\n",
    "plt.xticks(rotation=70)\n",
    "plt.show()"
   ]
  },
  {
   "cell_type": "markdown",
   "metadata": {
    "id": "Cpx3PVuzN9bb"
   },
   "source": [
    "### 4.2.서울 지역 분석"
   ]
  },
  {
   "cell_type": "markdown",
   "metadata": {
    "id": "pc5kSybgOEWu"
   },
   "source": [
    "**1) 서울 지역 데이터 추출**\n",
    "\n",
    "- apart2 데이터프레임에서 서울지역 데이터만 추출해 seoul 데이터프레임을 선언합니다."
   ]
  },
  {
   "cell_type": "code",
   "execution_count": 45,
   "metadata": {
    "colab": {
     "base_uri": "https://localhost:8080/",
     "height": 206
    },
    "executionInfo": {
     "elapsed": 11,
     "status": "ok",
     "timestamp": 1639813494763,
     "user": {
      "displayName": "Jangrae Lee",
      "photoUrl": "https://lh3.googleusercontent.com/a-/AOh14Gh1Pd8OuWJU2cv7uTt-fURrgvty7atx_Wtarmx0-A=s64",
      "userId": "08475661575434032088"
     },
     "user_tz": -540
    },
    "id": "8gAX8HqGkyOG",
    "outputId": "b928e8eb-26c4-4ffd-e59c-fa9384654bd8"
   },
   "outputs": [
    {
     "data": {
      "text/html": [
       "<div>\n",
       "<style scoped>\n",
       "    .dataframe tbody tr th:only-of-type {\n",
       "        vertical-align: middle;\n",
       "    }\n",
       "\n",
       "    .dataframe tbody tr th {\n",
       "        vertical-align: top;\n",
       "    }\n",
       "\n",
       "    .dataframe thead th {\n",
       "        text-align: right;\n",
       "    }\n",
       "</style>\n",
       "<table border=\"1\" class=\"dataframe\">\n",
       "  <thead>\n",
       "    <tr style=\"text-align: right;\">\n",
       "      <th></th>\n",
       "      <th>시도</th>\n",
       "      <th>구군</th>\n",
       "      <th>증가액</th>\n",
       "      <th>증가율</th>\n",
       "    </tr>\n",
       "  </thead>\n",
       "  <tbody>\n",
       "    <tr>\n",
       "      <th>0</th>\n",
       "      <td>서울</td>\n",
       "      <td>종로구</td>\n",
       "      <td>21208</td>\n",
       "      <td>2.059945</td>\n",
       "    </tr>\n",
       "    <tr>\n",
       "      <th>1</th>\n",
       "      <td>서울</td>\n",
       "      <td>중구</td>\n",
       "      <td>27229</td>\n",
       "      <td>3.394050</td>\n",
       "    </tr>\n",
       "    <tr>\n",
       "      <th>2</th>\n",
       "      <td>서울</td>\n",
       "      <td>용산구</td>\n",
       "      <td>45719</td>\n",
       "      <td>3.267150</td>\n",
       "    </tr>\n",
       "    <tr>\n",
       "      <th>3</th>\n",
       "      <td>서울</td>\n",
       "      <td>성동구</td>\n",
       "      <td>36441</td>\n",
       "      <td>4.001357</td>\n",
       "    </tr>\n",
       "    <tr>\n",
       "      <th>4</th>\n",
       "      <td>서울</td>\n",
       "      <td>광진구</td>\n",
       "      <td>42768</td>\n",
       "      <td>4.188683</td>\n",
       "    </tr>\n",
       "  </tbody>\n",
       "</table>\n",
       "</div>"
      ],
      "text/plain": [
       "   시도   구군    증가액       증가율\n",
       "0  서울  종로구  21208  2.059945\n",
       "1  서울   중구  27229  3.394050\n",
       "2  서울  용산구  45719  3.267150\n",
       "3  서울  성동구  36441  4.001357\n",
       "4  서울  광진구  42768  4.188683"
      ]
     },
     "execution_count": 45,
     "metadata": {},
     "output_type": "execute_result"
    }
   ],
   "source": [
    "# seoul 데이터프레임 만들기\n",
    "seoul = apart2.loc[apart['시도'] == '서울']\n",
    "\n",
    "# 확인\n",
    "seoul.head()"
   ]
  },
  {
   "cell_type": "markdown",
   "metadata": {
    "id": "g1ZlK-i0QRFC"
   },
   "source": [
    "**2) 서울 지역 가격 변동 현황**\n",
    "\n",
    "- 서울 지역 아파트 매매가 증가액을 막대 그래프로 시각화해 확인합니다."
   ]
  },
  {
   "cell_type": "code",
   "execution_count": 46,
   "metadata": {
    "colab": {
     "base_uri": "https://localhost:8080/",
     "height": 348
    },
    "executionInfo": {
     "elapsed": 781,
     "status": "ok",
     "timestamp": 1639813495534,
     "user": {
      "displayName": "Jangrae Lee",
      "photoUrl": "https://lh3.googleusercontent.com/a-/AOh14Gh1Pd8OuWJU2cv7uTt-fURrgvty7atx_Wtarmx0-A=s64",
      "userId": "08475661575434032088"
     },
     "user_tz": -540
    },
    "id": "suV6IuY7pJKe",
    "outputId": "2215d8ba-ab5a-4151-992c-b6493c32f8a7"
   },
   "outputs": [
    {
     "data": {
      "image/png": "[encoded data removed]",
      "text/plain": [
       "<Figure size 720x360 with 1 Axes>"
      ]
     },
     "metadata": {
      "image/png": {
       "height": 383,
       "width": 626
      },
      "needs_background": "light"
     },
     "output_type": "display_data"
    }
   ],
   "source": [
    "# 서울 지역 가격 변동\n",
    "plt.figure(figsize=(10, 5))\n",
    "plt.bar(seoul['구군'], seoul['증가액'])\n",
    "plt.title('서울 아파트 평균 매매가', fontsize=20, pad=20)\n",
    "plt.xlabel('구군')\n",
    "plt.ylabel('매매가(천원)')\n",
    "plt.xticks(rotation=70)\n",
    "plt.show()"
   ]
  },
  {
   "cell_type": "markdown",
   "metadata": {
    "id": "vZoJvQRUQV70"
   },
   "source": [
    "**3) 서울 지역 가격 변동 순위**\n",
    "\n",
    "- 아파트 매매가 증가액을 기준으로 내림차순 정렬해 tmp 데이터프레임을 선언합니다.\n",
    "- tmp 데이터프레임을 대상으로 다시 시각화해 확인합니다."
   ]
  },
  {
   "cell_type": "code",
   "execution_count": 47,
   "metadata": {
    "colab": {
     "base_uri": "https://localhost:8080/",
     "height": 348
    },
    "executionInfo": {
     "elapsed": 5,
     "status": "ok",
     "timestamp": 1639813495534,
     "user": {
      "displayName": "Jangrae Lee",
      "photoUrl": "https://lh3.googleusercontent.com/a-/AOh14Gh1Pd8OuWJU2cv7uTt-fURrgvty7atx_Wtarmx0-A=s64",
      "userId": "08475661575434032088"
     },
     "user_tz": -540
    },
    "id": "KW1k7I3fqeDz",
    "outputId": "c51995a3-a5e6-46d9-82b8-2247de58178b"
   },
   "outputs": [
    {
     "data": {
      "image/png": "[encoded data removed]",
      "text/plain": [
       "<Figure size 720x360 with 1 Axes>"
      ]
     },
     "metadata": {
      "image/png": {
       "height": 383,
       "width": 626
      },
      "needs_background": "light"
     },
     "output_type": "display_data"
    }
   ],
   "source": [
    "# 서울 지역 가격 변동 순위\n",
    "tmp = seoul.sort_values(by='증가액', ascending=False)\n",
    "\n",
    "# 시각화\n",
    "plt.figure(figsize=(10, 5))\n",
    "plt.bar(tmp['구군'], tmp['증가액'])\n",
    "plt.title('서울 아파트 평균 매매가 순위', fontsize=20, pad=20)\n",
    "plt.xlabel('구군')\n",
    "plt.ylabel('매매가(천원)')\n",
    "plt.xticks(rotation=70)\n",
    "plt.show()"
   ]
  },
  {
   "cell_type": "markdown",
   "metadata": {
    "id": "2aMKhgMXPa80"
   },
   "source": [
    "### 4.3.부산 지역 분석"
   ]
  },
  {
   "cell_type": "markdown",
   "metadata": {
    "id": "g5dGFzorfBdC"
   },
   "source": [
    "**1) 부산 지역 데이터 추출**\n",
    "\n",
    "- apart2 데이터프레임에서 부산지역 데이터만 추출해 pusan 데이터프레임을 선언합니다."
   ]
  },
  {
   "cell_type": "code",
   "execution_count": 48,
   "metadata": {
    "colab": {
     "base_uri": "https://localhost:8080/",
     "height": 206
    },
    "executionInfo": {
     "elapsed": 23,
     "status": "ok",
     "timestamp": 1639813496360,
     "user": {
      "displayName": "Jangrae Lee",
      "photoUrl": "https://lh3.googleusercontent.com/a-/AOh14Gh1Pd8OuWJU2cv7uTt-fURrgvty7atx_Wtarmx0-A=s64",
      "userId": "08475661575434032088"
     },
     "user_tz": -540
    },
    "id": "T5dnpqXdfBdH",
    "outputId": "efb33f8b-c3a9-4c1e-ecdd-bdcf28cbb6fc"
   },
   "outputs": [
    {
     "data": {
      "text/html": [
       "<div>\n",
       "<style scoped>\n",
       "    .dataframe tbody tr th:only-of-type {\n",
       "        vertical-align: middle;\n",
       "    }\n",
       "\n",
       "    .dataframe tbody tr th {\n",
       "        vertical-align: top;\n",
       "    }\n",
       "\n",
       "    .dataframe thead th {\n",
       "        text-align: right;\n",
       "    }\n",
       "</style>\n",
       "<table border=\"1\" class=\"dataframe\">\n",
       "  <thead>\n",
       "    <tr style=\"text-align: right;\">\n",
       "      <th></th>\n",
       "      <th>시도</th>\n",
       "      <th>구군</th>\n",
       "      <th>증가액</th>\n",
       "      <th>증가율</th>\n",
       "    </tr>\n",
       "  </thead>\n",
       "  <tbody>\n",
       "    <tr>\n",
       "      <th>78</th>\n",
       "      <td>부산</td>\n",
       "      <td>중구</td>\n",
       "      <td>-2645</td>\n",
       "      <td>-1.795253</td>\n",
       "    </tr>\n",
       "    <tr>\n",
       "      <th>79</th>\n",
       "      <td>부산</td>\n",
       "      <td>서구</td>\n",
       "      <td>29916</td>\n",
       "      <td>11.009053</td>\n",
       "    </tr>\n",
       "    <tr>\n",
       "      <th>80</th>\n",
       "      <td>부산</td>\n",
       "      <td>동구</td>\n",
       "      <td>20139</td>\n",
       "      <td>9.783480</td>\n",
       "    </tr>\n",
       "    <tr>\n",
       "      <th>81</th>\n",
       "      <td>부산</td>\n",
       "      <td>영도구</td>\n",
       "      <td>4625</td>\n",
       "      <td>2.358286</td>\n",
       "    </tr>\n",
       "    <tr>\n",
       "      <th>82</th>\n",
       "      <td>부산</td>\n",
       "      <td>부산진구</td>\n",
       "      <td>41122</td>\n",
       "      <td>15.904669</td>\n",
       "    </tr>\n",
       "  </tbody>\n",
       "</table>\n",
       "</div>"
      ],
      "text/plain": [
       "    시도    구군    증가액        증가율\n",
       "78  부산    중구  -2645  -1.795253\n",
       "79  부산    서구  29916  11.009053\n",
       "80  부산    동구  20139   9.783480\n",
       "81  부산   영도구   4625   2.358286\n",
       "82  부산  부산진구  41122  15.904669"
      ]
     },
     "execution_count": 48,
     "metadata": {},
     "output_type": "execute_result"
    }
   ],
   "source": [
    "# pusan 데이터프레임 만들기\n",
    "pusan = apart2.loc[apart['시도'] == '부산']\n",
    "\n",
    "# 확인\n",
    "pusan.head()"
   ]
  },
  {
   "cell_type": "markdown",
   "metadata": {
    "id": "3LWrjH4ifBdK"
   },
   "source": [
    "**2) 부산 지역 가격 변동 현황**\n",
    "\n",
    "- 부산 지역 아파트 매매가 증가액을 막대 그래프로 시각화해 확인합니다."
   ]
  },
  {
   "cell_type": "code",
   "execution_count": 49,
   "metadata": {
    "colab": {
     "base_uri": "https://localhost:8080/",
     "height": 348
    },
    "executionInfo": {
     "elapsed": 15,
     "status": "ok",
     "timestamp": 1639813496361,
     "user": {
      "displayName": "Jangrae Lee",
      "photoUrl": "https://lh3.googleusercontent.com/a-/AOh14Gh1Pd8OuWJU2cv7uTt-fURrgvty7atx_Wtarmx0-A=s64",
      "userId": "08475661575434032088"
     },
     "user_tz": -540
    },
    "id": "XTP-Gb5pfBdL",
    "outputId": "787c8607-6c02-4a48-91d1-89417d2805ad"
   },
   "outputs": [
    {
     "data": {
      "image/png": "[encoded data removed]",
      "text/plain": [
       "<Figure size 720x360 with 1 Axes>"
      ]
     },
     "metadata": {
      "image/png": {
       "height": 383,
       "width": 626
      },
      "needs_background": "light"
     },
     "output_type": "display_data"
    }
   ],
   "source": [
    "# 부산 지역 가격 변동\n",
    "plt.figure(figsize=(10, 5))\n",
    "plt.bar(pusan['구군'], pusan['증가액'])\n",
    "plt.title('부산 아파트 평균 매매가', fontsize=20, pad=20)\n",
    "plt.xlabel('구군')\n",
    "plt.ylabel('매매가(천원)')\n",
    "plt.xticks(rotation=70)\n",
    "plt.show()"
   ]
  },
  {
   "cell_type": "markdown",
   "metadata": {
    "id": "n8pnKPsRfBdL"
   },
   "source": [
    "**3) 부산 지역 가격 변동 순위**\n",
    "\n",
    "- 아파트 매매가 증가액을 기준으로 내림차순 정렬해 tmp 데이터프레임을 선언합니다.\n",
    "- tmp 데이터프레임을 대상으로 다시 시각화해 확인합니다."
   ]
  },
  {
   "cell_type": "code",
   "execution_count": 50,
   "metadata": {
    "colab": {
     "base_uri": "https://localhost:8080/",
     "height": 348
    },
    "executionInfo": {
     "elapsed": 577,
     "status": "ok",
     "timestamp": 1639813496926,
     "user": {
      "displayName": "Jangrae Lee",
      "photoUrl": "https://lh3.googleusercontent.com/a-/AOh14Gh1Pd8OuWJU2cv7uTt-fURrgvty7atx_Wtarmx0-A=s64",
      "userId": "08475661575434032088"
     },
     "user_tz": -540
    },
    "id": "EDSPggwufBdL",
    "outputId": "cd62a93d-73f4-4b74-fe19-800ec3f43b89"
   },
   "outputs": [
    {
     "data": {
      "image/png": "[encoded data removed]",
      "text/plain": [
       "<Figure size 720x360 with 1 Axes>"
      ]
     },
     "metadata": {
      "image/png": {
       "height": 383,
       "width": 626
      },
      "needs_background": "light"
     },
     "output_type": "display_data"
    }
   ],
   "source": [
    "# 부산 지역 가격 변동 순위\n",
    "tmp = pusan.sort_values(by='증가액', ascending=False)\n",
    "\n",
    "# 시각화\n",
    "plt.figure(figsize=(10, 5))\n",
    "plt.bar(tmp['구군'], tmp['증가액'])\n",
    "plt.title('부산 아파트 평균 매매가 순위', fontsize=20, pad=20)\n",
    "plt.xlabel('구군')\n",
    "plt.ylabel('매매가(천원)')\n",
    "plt.xticks(rotation=70)\n",
    "plt.show()"
   ]
  },
  {
   "cell_type": "markdown",
   "metadata": {
    "id": "dzoUbxiYfdiQ"
   },
   "source": [
    "## 5.정리\n",
    "\n",
    "- 분석을 통해 확인한 내용을 정리합니다."
   ]
  },
  {
   "cell_type": "markdown",
   "metadata": {
    "id": "svu99_E3fdiR"
   },
   "source": [
    "**1) 의견**\n",
    "\n",
    "- 대부분의 아파트 평균 매매 가격이 상승하고 있습니다.\n",
    "- 일부 지역은 매매 가격이 내려가고 있습니다.\n",
    "- 서울은 서초구 아파트 가격이 가장 많이 증가했습니다.\n",
    "- 증가율은 노원구가 가장 높습니다."
   ]
  }
 ],
 "metadata": {
  "colab": {
   "collapsed_sections": [],
   "name": "X02 - [레벨업] 전국 아파트  평균 매매가격.ipynb",
   "provenance": []
  },
  "kernelspec": {
   "display_name": "Python 3 (ipykernel)",
   "language": "python",
   "name": "python3"
  },
  "language_info": {
   "codemirror_mode": {
    "name": "ipython",
    "version": 3
   },
   "file_extension": ".py",
   "mimetype": "text/x-python",
   "name": "python",
   "nbconvert_exporter": "python",
   "pygments_lexer": "ipython3",
   "version": "3.9.7"
  }
 },
 "nbformat": 4,
 "nbformat_minor": 4
}
