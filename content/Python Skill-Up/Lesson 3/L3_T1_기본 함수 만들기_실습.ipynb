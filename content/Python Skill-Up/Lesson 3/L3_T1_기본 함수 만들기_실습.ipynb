{
  "cells": [
    {
      "cell_type": "markdown",
      "metadata": {
        "id": "e6062223"
      },
      "source": [
        "# **Topic 1. 기본 함수 만들기_실습**"
      ]
    },
    {
      "cell_type": "markdown",
      "metadata": {
        "id": "DrMB54dXNx1Q"
      },
      "source": [
        "**1) 다음 요구에 따라 함수 hello_world()를 선언하고 사용해 보세요.**\n",
        "\n",
        "- 이름을 입력받는 매개변수 name을 사용하세요.\n",
        "- 'Hello '와 ' , welcome to Python World!' 사이에 name을 넣어 출력하세요."
      ]
    },
    {
      "cell_type": "markdown",
      "source": [
        "[결과 예시]\n",
        "\n",
        "~~~\n",
        "Hello Ann, welcome to Python World!\n",
        "~~~"
      ],
      "metadata": {
        "id": "aRbmj0xNEsNM"
      }
    },
    {
      "cell_type": "code",
      "execution_count": null,
      "metadata": {
        "id": "03258b2e"
      },
      "outputs": [],
      "source": [
        "# 함수 선언\n",
        "def hello_world( ):\n",
        "    print(f'Hello { }, welcome to Python World!')"
      ]
    },
    {
      "cell_type": "code",
      "source": [
        "# 함수 사용\n",
        "hello_world('Ann')"
      ],
      "metadata": {
        "id": "b6Zvgu-qEmGI"
      },
      "execution_count": null,
      "outputs": []
    },
    {
      "cell_type": "markdown",
      "metadata": {
        "id": "UnSdqePHOEzC"
      },
      "source": [
        "**2) 다음 요구에 따라 함수 say_hey()를 선언하고 사용해 보세요.**\n",
        "\n",
        "- 횟수를 입력받는 매개변수 cnt를 사용하세요.\n",
        "- 입력받은 cnt만큼 'Hey! '를 출력하세요."
      ]
    },
    {
      "cell_type": "markdown",
      "source": [
        "[결과 예시]\n",
        "\n",
        "~~~\n",
        "Hey! Hey! Hey! Hey! Hey!\n",
        "~~~"
      ],
      "metadata": {
        "id": "6GdOrmYyFH5U"
      }
    },
    {
      "cell_type": "code",
      "execution_count": null,
      "metadata": {
        "id": "4f8671c9"
      },
      "outputs": [],
      "source": [
        "# 함수 선언\n",
        "def say_hey( ):\n",
        "    print( )"
      ]
    },
    {
      "cell_type": "code",
      "source": [
        "# 함수 사용\n",
        "say_hey(5)"
      ],
      "metadata": {
        "id": "PPDfS2PWFCzw"
      },
      "execution_count": null,
      "outputs": []
    },
    {
      "cell_type": "markdown",
      "metadata": {
        "id": "C7NOWcmUOgnR"
      },
      "source": [
        "**3) 다음 요구에 따라 함수 hello()를 선언하고 사용해 보세요.**\n",
        "\n",
        "- 이름을 입력받는 매개변수 name, 숫자를 입력받는 매개변수 loud를 사용하세요.\n",
        "- 이때, loud 매개변수 기본값은 1로 설정하세요.\n",
        "- loud=1일 때, 'HELLO '와  '!!!' 사이에 name을 대문자로 넣어 출력하세요.\n",
        "- loud=0이면, 'Hello '와 '.' 사이에 name을 소문자로 넣어 출력하세요."
      ]
    },
    {
      "cell_type": "markdown",
      "source": [
        "[결과 예시]\n",
        "\n",
        "~~~\n",
        "Hello kim.\n",
        "HELLO KIM!!!\n",
        "~~~"
      ],
      "metadata": {
        "id": "p5Bkknf-GsFL"
      }
    },
    {
      "cell_type": "code",
      "execution_count": null,
      "metadata": {
        "id": "fe138102",
        "scrolled": true
      },
      "outputs": [],
      "source": [
        "# 함수 선언\n",
        "def hello( , ):\n",
        "    if  :\n",
        "        print(f'HELLO {name. }!!!')\n",
        "    else:\n",
        "        print(f'Hello {name. }.')"
      ]
    },
    {
      "cell_type": "code",
      "source": [
        "# 함수 사용\n",
        "hello(name='Kim', loud=0)\n",
        "hello(name='Kim')"
      ],
      "metadata": {
        "id": "hUrJYt9KGkxV"
      },
      "execution_count": null,
      "outputs": []
    },
    {
      "cell_type": "markdown",
      "metadata": {
        "id": "Xr7VqAjGPxTz"
      },
      "source": [
        "**4) 다음 요구에 따라 함수 add()를 선언하고 사용해 보세요.**\n",
        "\n",
        "- 계산할 숫자들을 입력받는 매개변수 a, b를 사용하세요.\n",
        "- a와 b의 합을 변수 hap에 저장하세요.\n",
        "- '덧셈 결과는 ' 뒤에 hap의 값을 넣어서 출력하세요."
      ]
    },
    {
      "cell_type": "markdown",
      "source": [
        "[결과 예시]\n",
        "\n",
        "~~~\n",
        "덧셈 결과는 9\n",
        "~~~"
      ],
      "metadata": {
        "id": "e7AwCHeHHNii"
      }
    },
    {
      "cell_type": "code",
      "execution_count": null,
      "metadata": {
        "id": "1dafbd7a"
      },
      "outputs": [],
      "source": [
        "# 함수 선언\n",
        "def add( , ):\n",
        "    hap =\n",
        "    print(f'덧셈 결과는 { }')"
      ]
    },
    {
      "cell_type": "code",
      "source": [
        "# 함수 사용\n",
        "add(7, 2)"
      ],
      "metadata": {
        "id": "9xTMjLqbHEQs"
      },
      "execution_count": null,
      "outputs": []
    }
  ],
  "metadata": {
    "colab": {
      "provenance": []
    },
    "kernelspec": {
      "display_name": "Python 3 (ipykernel)",
      "language": "python",
      "name": "python3"
    },
    "language_info": {
      "codemirror_mode": {
        "name": "ipython",
        "version": 3
      },
      "file_extension": ".py",
      "mimetype": "text/x-python",
      "name": "python",
      "nbconvert_exporter": "python",
      "pygments_lexer": "ipython3",
      "version": "3.9.13"
    }
  },
  "nbformat": 4,
  "nbformat_minor": 0
}