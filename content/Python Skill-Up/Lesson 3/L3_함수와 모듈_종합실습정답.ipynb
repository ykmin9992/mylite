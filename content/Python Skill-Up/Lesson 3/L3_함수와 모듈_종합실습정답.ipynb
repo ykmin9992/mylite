{
  "cells": [
    {
      "cell_type": "markdown",
      "metadata": {
        "id": "9lVOgXy-vVa5"
      },
      "source": [
        "# **Lesson 3. 함수와 모듈_종합실습**"
      ]
    },
    {
      "cell_type": "markdown",
      "source": [
        "**1) 다음 요구에 따라 make_dict() 함수를 만들고 확인하세요.**\n",
        "\n",
        "- 입력 매개변수: 두 개의 리스트 l1, l2\n",
        "- 기능: 순서대로 l1 요소를 키(key)로, l2 요소를 값(value)으로 갖는 딕셔너리 생성 후 반환\n",
        "- 다음 두 리스트를 매개변수를 함수에 전달한 후 반환 결과를 c 변수로 선언하고 확인하세요.\n",
        "    - a = ['happy', 'love', 'smile']\n",
        "    - b = ['행복', '사랑', '웃음']\n",
        "- 힌트: zip() 함수 사용"
      ],
      "metadata": {
        "id": "zx9s3ba6ILdQ"
      }
    },
    {
      "cell_type": "markdown",
      "source": [
        "[결과 예시] make_dict(a, b)\n",
        "\n",
        "~~~\n",
        "{'happy': '행복', 'love': '사랑', 'smile': '웃음'}\n",
        "~~~"
      ],
      "metadata": {
        "id": "7Xb-u66QI_ke"
      }
    },
    {
      "cell_type": "code",
      "source": [
        "# 함수 선언\n",
        "def make_dict(l1, l2):\n",
        "    result = {k:v for k, v in zip(l1, l2)}\n",
        "    return result\n",
        "\n",
        "# 함수 사용\n",
        "a = ['happy', 'love', 'smile']\n",
        "b = ['행복', '사랑', '웃음']\n",
        "c = make_dict(a, b)\n",
        "\n",
        "# 확인\n",
        "print(c)"
      ],
      "metadata": {
        "id": "m5LO3wlLHig-"
      },
      "execution_count": null,
      "outputs": []
    },
    {
      "cell_type": "markdown",
      "source": [
        "**2) 다음 요구에 따라 sqrt_pow() 함수를 만들고 확인하세요.**\n",
        "\n",
        "- 입력 매개변수: 한 개의 정수 num\n",
        "- 기능: 정수 num의 제곱근($\\sqrt{num}$)과 제곱($num^2$)을 동시에 반환\n",
        "- 정수 5를 매개변수로 전달하여 함수가 반환하는 제곱근과 제곱을 두 변수 a, b로 받아 확인하세요.\n",
        "- 단, 제곱근 값은 소수점 두 자리만 유지되게 반올림하세요.\n",
        "- 힌트: math 모듈 사용"
      ],
      "metadata": {
        "id": "2iTlT3pGJe_p"
      }
    },
    {
      "cell_type": "markdown",
      "source": [
        "[결과 예시]\n",
        "\n",
        "~~~\n",
        "제곱근: 2.24\n",
        "제곱: 25.0\n",
        "~~~"
      ],
      "metadata": {
        "id": "VBKWFvmtKbWr"
      }
    },
    {
      "cell_type": "code",
      "source": [
        "# 함수 선언\n",
        "def sqrt_pow(num):\n",
        "    import math\n",
        "    return math.sqrt(num), math.pow(num, 2)\n",
        "\n",
        "# 함수 사용\n",
        "a, b = sqrt_pow(5)\n",
        "\n",
        "# 확인\n",
        "print('제곱근:', round(a, 2))\n",
        "print('제곱:', b)"
      ],
      "metadata": {
        "id": "rj087sjCFIS0"
      },
      "execution_count": null,
      "outputs": []
    },
    {
      "cell_type": "markdown",
      "source": [
        "**3) 다음 요구에 따라 random_int() 함수를 만들고 확인하세요.**\n",
        "\n",
        "- 입력 매개변수: 한 개의 정수 num, 기본값은 10으로 설정\n",
        "- 기능: 1부터 num까지의 정수를 무작위로 섞은 요소를 갖는 리스트 반환  \n",
        "- 정수 20를 매개변수로 전달하여 함수가 반환하는 리스트를 변수 a로 받아 확인하세요.\n",
        "- 힌트: random.shuffle() 함수 사용"
      ],
      "metadata": {
        "id": "YkM6QIapTsXN"
      }
    },
    {
      "cell_type": "code",
      "source": [
        "# 함수 선언\n",
        "def random_int(num=10):\n",
        "    import random\n",
        "    my_list = list(range(1, num+1))\n",
        "    random.shuffle(my_list)\n",
        "    return my_list\n",
        "\n",
        "# 함수 사용\n",
        "a = random_int(20)\n",
        "\n",
        "# 확인\n",
        "print(a)"
      ],
      "metadata": {
        "id": "MeJwgrVaCLVK"
      },
      "execution_count": null,
      "outputs": []
    },
    {
      "cell_type": "markdown",
      "source": [
        "**4) 다음 구문을 실행해 사용할 모듈을 불러오고, 이어지는 요구에 따라 구문을 작성하고 실행하세요.**"
      ],
      "metadata": {
        "id": "yu3xmVO0UTNm"
      }
    },
    {
      "cell_type": "code",
      "source": [
        "# 모듈 불러오기\n",
        "import os\n",
        "import time\n",
        "import calendar"
      ],
      "metadata": {
        "id": "ncvtpCROB7Ki"
      },
      "execution_count": null,
      "outputs": []
    },
    {
      "cell_type": "markdown",
      "source": [
        "① 현재 년, 월을 year, month 변수로 선언하고 확인하세요."
      ],
      "metadata": {
        "id": "9rUBkJgkUmLC"
      }
    },
    {
      "cell_type": "markdown",
      "source": [
        "[결과 예시] 년, 월이 다를 수 있음\n",
        "\n",
        "~~~\n",
        "년: 2023\n",
        "월: 10\n",
        "~~~"
      ],
      "metadata": {
        "id": "NL-J249hU2Co"
      }
    },
    {
      "cell_type": "code",
      "source": [
        "# 현재 년, 월 확인\n",
        "current_time = time.localtime()\n",
        "year = current_time.tm_year\n",
        "month = current_time.tm_mon\n",
        "print('년:', year)\n",
        "print('월:', month)"
      ],
      "metadata": {
        "id": "5sIHhVDSBXxN"
      },
      "execution_count": null,
      "outputs": []
    },
    {
      "cell_type": "markdown",
      "source": [
        "② 일요일을 시작으로 설정하여 위에서 얻은 OOOO년O월 달력을 출력하세요."
      ],
      "metadata": {
        "id": "A_pMke4wU9OS"
      }
    },
    {
      "cell_type": "markdown",
      "source": [
        "[결과 예시] 년, 월이 다를 수 있음\n",
        "\n",
        "~~~\n",
        "    October 2023\n",
        "Su Mo Tu We Th Fr Sa\n",
        " 1  2  3  4  5  6  7\n",
        " 8  9 10 11 12 13 14\n",
        "15 16 17 18 19 20 21\n",
        "22 23 24 25 26 27 28\n",
        "29 30 31\n",
        "~~~"
      ],
      "metadata": {
        "id": "KZV9wHHzVMz_"
      }
    },
    {
      "cell_type": "code",
      "source": [
        "# 일요일 시작 설정\n",
        "cal = calendar.TextCalendar(calendar.SUNDAY)\n",
        "\n",
        "# 달력 표시\n",
        "cal_text = cal.formatmonth(year, month)\n",
        "print(cal_text)"
      ],
      "metadata": {
        "id": "IX-HUNE3B09N"
      },
      "execution_count": null,
      "outputs": []
    }
  ],
  "metadata": {
    "colab": {
      "provenance": []
    },
    "kernelspec": {
      "display_name": "Python 3 (ipykernel)",
      "language": "python",
      "name": "python3"
    },
    "language_info": {
      "codemirror_mode": {
        "name": "ipython",
        "version": 3
      },
      "file_extension": ".py",
      "mimetype": "text/x-python",
      "name": "python",
      "nbconvert_exporter": "python",
      "pygments_lexer": "ipython3",
      "version": "3.11.3"
    }
  },
  "nbformat": 4,
  "nbformat_minor": 0
}