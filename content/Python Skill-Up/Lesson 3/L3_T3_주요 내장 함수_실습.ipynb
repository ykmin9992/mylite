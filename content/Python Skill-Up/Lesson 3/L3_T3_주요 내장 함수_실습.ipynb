{
  "cells": [
    {
      "cell_type": "markdown",
      "metadata": {
        "id": "7Y5khynpDtNu"
      },
      "source": [
        "# **Topic 3. 주요 내장 함수_실습**"
      ]
    },
    {
      "cell_type": "markdown",
      "source": [
        "**1) 변수 a의 절댓값을 변수 b로, 소수점 두 자리로 반올림한 값을 변수 c로 선언하고 각각 확인하세요.**"
      ],
      "metadata": {
        "id": "vVXhN8MrV2mA"
      }
    },
    {
      "cell_type": "markdown",
      "source": [
        "[결과 예시]\n",
        "\n",
        "~~~\n",
        "536.8356\n",
        "-536.84\n",
        "~~~"
      ],
      "metadata": {
        "id": "jQa-Dm0sUDU-"
      }
    },
    {
      "cell_type": "code",
      "source": [
        "a = -536.8356\n",
        "b =\n",
        "c =\n",
        "print(b)\n",
        "print(c)"
      ],
      "metadata": {
        "id": "VYh71fb1Ttmq"
      },
      "execution_count": null,
      "outputs": []
    },
    {
      "cell_type": "markdown",
      "source": [
        "**2) 변수 num1을 변수 num2로 나눈 몫과 나머지를 각각 변수 a, b로 선언하고 확인하세요.**\n",
        "\n",
        "- 단, 함수 하나로 동시에 몫과 나머지를 반환 받으세요."
      ],
      "metadata": {
        "id": "HZSKIgvHWHWC"
      }
    },
    {
      "cell_type": "markdown",
      "source": [
        "[결과 예시]\n",
        "\n",
        "~~~\n",
        "몫: 18\n",
        "나머지: 2\n",
        "~~~"
      ],
      "metadata": {
        "id": "qgpuTpnmWauI"
      }
    },
    {
      "cell_type": "code",
      "source": [
        "num1 = 56\n",
        "num2 = 3\n",
        "a, b =\n",
        "print('몫:', a)\n",
        "print('나머지:', b)"
      ],
      "metadata": {
        "id": "_vETCng3WHGn"
      },
      "execution_count": null,
      "outputs": []
    },
    {
      "cell_type": "markdown",
      "source": [
        "**3) 변수 a에 대입된 문자의 유니코드 값과, 변수 b에 대입된 유니코드 값의 문자를 각각 확인하세요.**"
      ],
      "metadata": {
        "id": "JAqGgHVYV4nq"
      }
    },
    {
      "cell_type": "markdown",
      "source": [
        "[결과 예시]\n",
        "\n",
        "~~~\n",
        "44397\n",
        "최\n",
        "~~~"
      ],
      "metadata": {
        "id": "wNg7gkYNUy4k"
      }
    },
    {
      "cell_type": "code",
      "source": [
        "a = '국'\n",
        "b = 52572\n",
        "print( )\n",
        "print( )"
      ],
      "metadata": {
        "id": "estMDA48Ttcm"
      },
      "execution_count": null,
      "outputs": []
    },
    {
      "cell_type": "markdown",
      "source": [
        "**4) 영어 문장을 입력 받아 s 변수에 대입한 후, 대문자/소문자로 변환해 변수 u_case, l_case로 각각 선언하고 확인하세요.**"
      ],
      "metadata": {
        "id": "7kwq7gPYV58c"
      }
    },
    {
      "cell_type": "markdown",
      "source": [
        "[결과 예시] 'I Have a Dream.'을 입력한 경우\n",
        "\n",
        "~~~\n",
        "I HAVE A DREAM.\n",
        "i have a dream.\n",
        "~~~"
      ],
      "metadata": {
        "id": "0PEoUmlbVS0T"
      }
    },
    {
      "cell_type": "code",
      "source": [
        "s = await input('영어 문장을 입력하세요:')"
      ],
      "metadata": {
        "id": "LmJoI3czhKDd"
      },
      "execution_count": null,
      "outputs": []
    },
    {
      "cell_type": "code",
      "source": [
        "u_case = s.\n",
        "l_case = s.\n",
        "print(u_case)\n",
        "print(l_case)"
      ],
      "metadata": {
        "id": "gh7lEZ5iTtWw"
      },
      "execution_count": null,
      "outputs": []
    },
    {
      "cell_type": "markdown",
      "source": [
        "**5) 두 리스트 num1, num2의 요소를 서로 곱한 결과를 갖는 리스트 result를 선언하고 확인하세요.**"
      ],
      "metadata": {
        "id": "CUbTgMUiV7mm"
      }
    },
    {
      "cell_type": "markdown",
      "source": [
        "[결과 예시]\n",
        "\n",
        "~~~\n",
        "[2, 8, 18, 32]\n",
        "~~~"
      ],
      "metadata": {
        "id": "SuUD_GREVytG"
      }
    },
    {
      "cell_type": "code",
      "source": [
        "num1 = [2, 4, 6, 8]\n",
        "num2 = [1, 2, 3, 4]\n",
        "result = [x * y for x, y in  ]\n",
        "print(result)"
      ],
      "metadata": {
        "id": "EvEHNtCLTtRU"
      },
      "execution_count": null,
      "outputs": []
    }
  ],
  "metadata": {
    "colab": {
      "provenance": []
    },
    "kernelspec": {
      "display_name": "Python 3 (ipykernel)",
      "language": "python",
      "name": "python3"
    },
    "language_info": {
      "codemirror_mode": {
        "name": "ipython",
        "version": 3
      },
      "file_extension": ".py",
      "mimetype": "text/x-python",
      "name": "python",
      "nbconvert_exporter": "python",
      "pygments_lexer": "ipython3",
      "version": "3.9.13"
    }
  },
  "nbformat": 4,
  "nbformat_minor": 0
}