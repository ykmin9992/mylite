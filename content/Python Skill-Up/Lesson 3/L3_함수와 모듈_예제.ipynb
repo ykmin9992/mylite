{
  "metadata": {
    "colab": {
      "provenance": [],
      "toc_visible": true
    },
    "kernelspec": {
      "name": "python",
      "display_name": "Python (Pyodide)",
      "language": "python"
    },
    "language_info": {
      "codemirror_mode": {
        "name": "python",
        "version": 3
      },
      "file_extension": ".py",
      "mimetype": "text/x-python",
      "name": "python",
      "nbconvert_exporter": "python",
      "pygments_lexer": "ipython3",
      "version": "3.8"
    }
  },
  "nbformat_minor": 4,
  "nbformat": 4,
  "cells": [
    {
      "cell_type": "markdown",
      "source": "# **Lesson 3. 함수와 모듈**\n데이터 분석 초급 과정 1 (Python) > Module 2. Python Skill-Up",
      "metadata": {
        "id": "9lVOgXy-vVa5"
      }
    },
    {
      "cell_type": "markdown",
      "source": "## **Topic 1. 기본 함수 만들기**",
      "metadata": {
        "id": "RUn_zBAPm8NU"
      }
    },
    {
      "cell_type": "markdown",
      "source": "### **1) 함수 선언과 사용**\n\n- 우선 무작정 다음과 같이 함수를 만들어 봅니다.",
      "metadata": {
        "id": "8x3kKJuXoA_h"
      }
    },
    {
      "cell_type": "code",
      "source": "# 함수 선언\ndef hello():\n    print('안녕하세요? 반갑습니다!')\n\n# 함수 사용\nhello()",
      "metadata": {
        "id": "i1jtbf1tNvy2"
      },
      "execution_count": null,
      "outputs": []
    },
    {
      "cell_type": "markdown",
      "source": "- 하나 더 만들어봅니다.",
      "metadata": {
        "id": "Z5Rj9qkQvtOC"
      }
    },
    {
      "cell_type": "code",
      "source": "# 함수 선언\ndef times_table_2():\n    for i in range(1, 10):\n        print(f'2 x {i} = {2 * i}')\n\n# 함수 사용\ntimes_table_2()",
      "metadata": {
        "id": "Lb23fiw9t4gB"
      },
      "execution_count": null,
      "outputs": []
    },
    {
      "cell_type": "markdown",
      "source": "### **2) 입력 매개변수**\n\n- 앞에서 본 다음 함수는 입력 매개변수가 없습니다.\n- 그래서 기능이 단순합니다.",
      "metadata": {
        "id": "RKxy4jFWoFmo"
      }
    },
    {
      "cell_type": "code",
      "source": "# 함수 선언\ndef hello():\n    print('안녕하세요? 반갑습니다!')\n\n# 함수 사용\nhello()",
      "metadata": {
        "id": "hXQGpW0KtD3E"
      },
      "execution_count": null,
      "outputs": []
    },
    {
      "cell_type": "markdown",
      "source": "- 입력 매개변수가 있는 함수가 더 많은 역할을 수행하므로 자주 사용됩니다.\n- 이제 이름을 입력 매개변수로 받아 처리하는 함수를 만듭니다.",
      "metadata": {
        "id": "odzcGiIetUsi"
      }
    },
    {
      "cell_type": "code",
      "source": "# 함수 선언\ndef hello(name):\n    print(f'{name}님 안녕하세요? 반갑습니다!')\n\n# 함수 사용\nhello('홍길동')",
      "metadata": {
        "id": "a0J-Z-xvwwBA"
      },
      "execution_count": null,
      "outputs": []
    },
    {
      "cell_type": "markdown",
      "source": "- 숫자를 입력 매개변수로 받아 구구단을 출력하는 함수를 만듭니다.",
      "metadata": {
        "id": "KEwfjbQVwNY1"
      }
    },
    {
      "cell_type": "code",
      "source": "# 함수 선언\ndef times_table(x):\n    for i in range(1, 10):\n        print(f'{x} x {i} = {x * i}')\n\n# 함수 사용\ntimes_table(8)",
      "metadata": {
        "id": "MPwMenkrvzsr"
      },
      "execution_count": null,
      "outputs": []
    },
    {
      "cell_type": "markdown",
      "source": "### **3) 입력 매개변수 기본값**\n\n- 위 함수는 입력 매개변수가 없으면 오류가 발생합니다.\n- '매개변수 = 값' 형태로 기본값을 지정할 수 있습니다.\n- 이름을 전달하지 않으면 '여러분'이 기본값으로 사용되게 수정합니다.",
      "metadata": {
        "id": "H91qB7WqoLJ6"
      }
    },
    {
      "cell_type": "code",
      "source": "# 함수 선언\ndef hello(name='여러분'):\n    print(f'{name}님 안녕하세요? 반갑습니다!')\n\n# 함수 사용\nhello('홍길동')\nhello()",
      "metadata": {
        "id": "RAVftLGzyLne"
      },
      "execution_count": null,
      "outputs": []
    },
    {
      "cell_type": "markdown",
      "source": "- '여러분 안녕하세요? 반갑습니다!'가 표시되게 함수를 수정합니다.",
      "metadata": {
        "id": "23c_zQMg1MKC"
      }
    },
    {
      "cell_type": "code",
      "source": "# 함수 선언\ndef hello(name='여러분'):\n    if name == '여러분':\n        print(f'{name} 안녕하세요? 반갑습니다!')\n    else:\n        print(f'{name}님 안녕하세요? 반갑습니다!')\n\n# 함수 사용\nhello('홍길동')\nhello()",
      "metadata": {
        "id": "nETufo5_1MKC"
      },
      "execution_count": null,
      "outputs": []
    },
    {
      "cell_type": "markdown",
      "source": "### **4) 입력 매개변수 순서**\n\n- '매개변수 = 값' 형태로 입력값을 전달하는 경우는 함수 선언 시 매개변수 순서와 달라도 됩니다.\n- 함수 선언 시 매개변수 순서에 맞게 입력 값을 전달하는 경우는 매개변수 이름을 생략할 수 있습니다.",
      "metadata": {
        "id": "x_W5DvqVoSxN"
      }
    },
    {
      "cell_type": "code",
      "source": "# 함수 만들기\ndef hello(name, loud=1):\n    if loud == 1:\n        print(f'우~~와~~ {name}님 안녕하세요? 반갑습니다!!!')\n    else:\n        print(f'{name}님 안녕하세요? 반가워요.')\n\n# 함수 사용\nhello(name='홍길동', loud=1)   # 매개변수 = 값 형태로 지정\nhello(loud=0, name='홍길동')   # 매개변수 순서 변경\nhello('홍길동', 0)             # 매개변수 이름 생략\nhello('홍길동')                # 매개변수 기본값 사용",
      "metadata": {
        "id": "0FpZAvfTyuBF"
      },
      "execution_count": null,
      "outputs": []
    },
    {
      "cell_type": "markdown",
      "source": "## **Topic 2. 고급 함수 만들기**",
      "metadata": {
        "id": "e332SgU4nDl7"
      }
    },
    {
      "cell_type": "markdown",
      "source": "### **1) 여러 매개변수**\n\n- 입력 매개변수가 여러 개 전달되는 경우 매개변수 이름에 *을 붙입니다.\n- 대부분 함수 안에서 반복문을 사용해 출력합니다.\n\n",
      "metadata": {
        "id": "wGgNTvbBnsN3"
      }
    },
    {
      "cell_type": "code",
      "source": "# 함수 선언\ndef hello(*args):\n    for who in args:\n        print(f'{who}님 안녕하세요? 반갑습니다!')\n\n# 함수 사용\nhello('홍길동', '일지매', '강우동')",
      "metadata": {
        "id": "8tSDYJ9N0LMy"
      },
      "execution_count": null,
      "outputs": []
    },
    {
      "cell_type": "code",
      "source": "# 함수 선언\ndef summ(*nums):\n    print(sum([x ** 2 for x in nums]))\n\n# 함수 사용\nsumm(1, 4, 3, 5)",
      "metadata": {
        "id": "KgZAgWvdP1M1"
      },
      "execution_count": null,
      "outputs": []
    },
    {
      "cell_type": "markdown",
      "source": "- 임의의 여러 입력 매개변수와 고정된 매개변수를 사용할 수 있습니다.",
      "metadata": {
        "id": "OFqgIyTb5MLx"
      }
    },
    {
      "cell_type": "code",
      "source": "# 함수 만들기\ndef hello(*args, title):\n    for who in args:\n        print(f'{who}{title} 안녕하세요? 반갑습니다!')\n\n# 함수 사용\nhello('홍길동', '일지매', '강우동', title='선생님')",
      "metadata": {
        "id": "IziA8qSG0LMz"
      },
      "execution_count": null,
      "outputs": []
    },
    {
      "cell_type": "markdown",
      "source": "### **2) 함수 출력**\n\n- 함수 안에서 print() 함수로 결과를 출력하는 함수는 반환되는 값이 없습니다.",
      "metadata": {
        "id": "sizxXJddnvpX"
      }
    },
    {
      "cell_type": "code",
      "source": "# 함수 만들기\ndef numbers1(*nums):\n    print(nums)\n\n# 함수 사용\nnumbers1(1, 2, 3)",
      "metadata": {
        "id": "vsB1YMjwOofc"
      },
      "execution_count": null,
      "outputs": []
    },
    {
      "cell_type": "markdown",
      "source": "- 반환되는 값이 없는 함수의 결괏값을 받아 출력하면 None이 출력됩니다.",
      "metadata": {
        "id": "RKTHnFPWeUiV"
      }
    },
    {
      "cell_type": "code",
      "source": "# 함수 만들기\ndef numbers1(*nums):\n    print(nums)\n\n# 함수 사용\na1 = numbers1(1, 2, 3)\nprint(a1)",
      "metadata": {
        "id": "0ADL7xHEeFi8"
      },
      "execution_count": null,
      "outputs": []
    },
    {
      "cell_type": "markdown",
      "source": "### **3) 함수 반환값 받기**\n\n- 함수 안에서 return 문으로 반환한 값을 받아 함수 밖에서 사용할 수 있습니다.",
      "metadata": {
        "id": "ZK_goH8Qn0nC"
      }
    },
    {
      "cell_type": "code",
      "source": "# 함수 선언\ndef calculate(a, b):\n    summ = a + b\n    return summ\n\n# 함수 사용\nr1 = calculate(10, 5)\nprint(r1)",
      "metadata": {
        "id": "NETSaXwtPDX2"
      },
      "execution_count": null,
      "outputs": []
    },
    {
      "cell_type": "markdown",
      "source": "- 함수가 여러 개의 결괏값을 반환할 수도 있습니다.",
      "metadata": {
        "id": "8vz4c6d6ek3p"
      }
    },
    {
      "cell_type": "code",
      "source": "# 함수 선언\ndef calculate(a, b):\n    summ = a + b\n    mult = a * b\n    return summ, mult\n\n# 함수 사용\nr1, r2 = calculate(10, 5)\nprint(r1)\nprint(r2)",
      "metadata": {
        "id": "dZ6XUNl5ecE7"
      },
      "execution_count": null,
      "outputs": []
    },
    {
      "cell_type": "markdown",
      "source": "## **Topic 3. 주요 내장 함수**",
      "metadata": {
        "id": "t3FKpH4JnSg9"
      }
    },
    {
      "cell_type": "markdown",
      "source": "### **1) 숫자를 다루는 함수**",
      "metadata": {
        "id": "92K9Bv1JndM4"
      }
    },
    {
      "cell_type": "markdown",
      "source": "#### **① max(iterable) 함수**\n\n- 문자열, 리스트, 튜플, 딕셔너리, 집합, range() 함수 등을 이터러블(iterable) 객체라고 합니다.\n- 이터러블 객체에서 최댓값을 반환합니다.",
      "metadata": {
        "id": "V0J48pQHTNDj"
      }
    },
    {
      "cell_type": "code",
      "source": "# 리스트 선언\na = [1, 2, 3, 4, 5]\n\n# 최댓값\nprint(max(a))",
      "metadata": {
        "id": "ogcIOQb-TFBE"
      },
      "execution_count": null,
      "outputs": []
    },
    {
      "cell_type": "markdown",
      "source": "#### **② min(iterable) 함수**\n\n- 이터러블 객체에서 최솟값을 반환합니다.",
      "metadata": {
        "id": "yZMCVE9sTP7f"
      }
    },
    {
      "cell_type": "code",
      "source": "# 리스트 선언\na = [1, 2, 3, 4, 5]\n\n# 최솟값\nprint(min(a))",
      "metadata": {
        "id": "rMx_Erm0TI9l"
      },
      "execution_count": null,
      "outputs": []
    },
    {
      "cell_type": "markdown",
      "source": "#### **③ sum(iterable) 함수**\n\n- 이터러블 객체의 모든 요소를 합산한 값을 반환합니다.",
      "metadata": {
        "id": "Do7jUvRKYVht"
      }
    },
    {
      "cell_type": "code",
      "source": "# 리스트 선언\na = [1, 2, 3, 4, 5]\n\n# 합\nprint(sum(a))",
      "metadata": {
        "id": "m2PR0oW8ueEy"
      },
      "execution_count": null,
      "outputs": []
    },
    {
      "cell_type": "markdown",
      "source": "#### **④ abs(x) 함수**\n\n- 주어진 숫자 x의 절댓값을 반환합니다.",
      "metadata": {
        "id": "y8gslhjLLQzi"
      }
    },
    {
      "cell_type": "code",
      "source": "# 변수 선언\na = -123.45\n\n# 절댓값\nprint(abs(a))",
      "metadata": {
        "id": "iCRXdLF8K2Bs"
      },
      "execution_count": null,
      "outputs": []
    },
    {
      "cell_type": "markdown",
      "source": "#### **⑤ round(x[, ndigits]) 함수**\n\n- 주어진 숫자 x를 반올림하여 반환합니다.\n- ndigits 매개변수를 사용하여 소수점 이하 자릿수를 지정합니다.",
      "metadata": {
        "id": "Nifc0A1Rn9yT"
      }
    },
    {
      "cell_type": "code",
      "source": "# 변수 선언\na = 23.456\nb = 45.673\n\n# 반올림\nprint(round(a, 2))\nprint(round(b, 2))",
      "metadata": {
        "id": "bPxfn6GNuqsw"
      },
      "execution_count": null,
      "outputs": []
    },
    {
      "cell_type": "markdown",
      "source": "#### **⑥ divmod(x, y) 함수**\n\n- 숫자 x를 숫자 y로 나눈 결과의 몫과 나머지를 튜플로 반환합니다.",
      "metadata": {
        "id": "RN4z45RAN4Tu"
      }
    },
    {
      "cell_type": "code",
      "source": "# 변수 선언\na = 32\nb = 5\n\n# 몫, 나머지\nc, d = divmod(a, b)\n\n# 확인\nprint('몫:', c, '나머지:', d)",
      "metadata": {
        "id": "DQmxLvnANccm"
      },
      "execution_count": null,
      "outputs": []
    },
    {
      "cell_type": "markdown",
      "source": "#### **⑦ pow(x, y[, z]) 함수**\n\n- x를 y 제곱한 값을 계산하고, 선택적으로 z로 나눈 나머지를 반환합니다.",
      "metadata": {
        "id": "x_CcZUtiTjv0"
      }
    },
    {
      "cell_type": "code",
      "source": "# 변수 선언\na = 3\nb = 4\n\n# 제곱\nprint(pow(a, b))\n\n# 제곱 % 4\nprint(pow(a, b, 4))",
      "metadata": {
        "id": "PY0zVqM_TmyF"
      },
      "execution_count": null,
      "outputs": []
    },
    {
      "cell_type": "markdown",
      "source": "### **2) 문자열을 다루는 함수**",
      "metadata": {
        "id": "eOuDfdo-niId"
      }
    },
    {
      "cell_type": "markdown",
      "source": "#### **① len(s) 함수**\n\n- 문자열 s의 길이(문자 개수)를 반환합니다.",
      "metadata": {
        "id": "Wi_bVXZKSQfM"
      }
    },
    {
      "cell_type": "code",
      "source": "# 문자열 변수 선언\na = 'I have a Dream.'\n\n# 길이\nlen(a)",
      "metadata": {
        "id": "epKYJx_ISE1S"
      },
      "execution_count": null,
      "outputs": []
    },
    {
      "cell_type": "code",
      "source": "# 리스트 변수 선언\nb = [1, 2, 3, 4, 5]\n\n# 요소 개수\nlen(b)",
      "metadata": {
        "id": "mbnGWfknSLVx"
      },
      "execution_count": null,
      "outputs": []
    },
    {
      "cell_type": "markdown",
      "source": "#### **② ord(c) 함수**\n\n- 문자 c에 해당하는 유니코드 코드 포인트를 반환합니다.",
      "metadata": {
        "id": "d1sRq19ZTZkW"
      }
    },
    {
      "cell_type": "code",
      "source": "# 영어\nprint(ord('A'))\nprint(ord('a'))\n\n# 한글\nprint(ord('ㅂ'))\nprint(ord('가'))\nprint(ord('한'))",
      "metadata": {
        "id": "QIzVn8FlTf0r"
      },
      "execution_count": null,
      "outputs": []
    },
    {
      "cell_type": "markdown",
      "source": "#### **③ chr(i) 함수**\n\n- 유니코드 코드 포인트 i에 해당하는 문자를 반환합니다.",
      "metadata": {
        "id": "d9Q9hODVMQfL"
      }
    },
    {
      "cell_type": "code",
      "source": "# 영어\nprint(chr(65))\nprint(chr(97))\n\n# 한글\nprint(chr(12610))\nprint(chr(44032))\nprint(chr(54620))",
      "metadata": {
        "id": "qR_s1O7-L85I"
      },
      "execution_count": null,
      "outputs": []
    },
    {
      "cell_type": "markdown",
      "source": "### **3) 기타 함수**",
      "metadata": {
        "id": "d4NYVuoBniP6"
      }
    },
    {
      "cell_type": "markdown",
      "source": "#### **① range(stop) 함수**\n\n- 0부터 stop-1까지 정수를 갖는 이터러블 객체를 반환합니다.",
      "metadata": {
        "id": "UuEGp0bPUMhs"
      }
    },
    {
      "cell_type": "code",
      "source": "# 변수 선언\na = list(range(10))\nb = tuple(range(1, 11))\nc = set(range(1, 11, 2))\n\n# 확인\nprint(a)\nprint(b)\nprint(c)",
      "metadata": {
        "id": "mNnSJV3XT16O"
      },
      "execution_count": null,
      "outputs": []
    },
    {
      "cell_type": "markdown",
      "source": "#### **② enumerate(iterable, start=0) 함수**\n\n- 이터러블 객체 각 요소와 해당 인덱스를 포함하는 이터러블 객체를 반환합니다.",
      "metadata": {
        "id": "FWr_rh3YOPUI"
      }
    },
    {
      "cell_type": "code",
      "source": "# 변수 선언\na = ['홍길동', '일지매', '한사랑']\n\n# 인덱스, 요소\nprint(list(enumerate(a)))\nprint(list(enumerate(a, start=0)))\nprint(list(enumerate(a, start=1)))",
      "metadata": {
        "id": "6OQFffvOt7tJ"
      },
      "execution_count": null,
      "outputs": []
    },
    {
      "cell_type": "code",
      "source": "# 변수 선언\na = ['홍길동', '일지매', '한사랑']\n\n# 인덱스, 요소 출력\nfor idx, name in enumerate(a):\n    print(f'{idx}: {name}')",
      "metadata": {
        "id": "qqs8ZiVuN_2z"
      },
      "execution_count": null,
      "outputs": []
    },
    {
      "cell_type": "markdown",
      "source": "#### **③ input(prompt) 함수**\n\n- 사용자로부터 입력을 받습니다.(입력 받은 값은 언제나 문자열임)\n- 참고: jupyter lite가 아닌 경우는 아래 구문에서 await문을 삭제하세요.",
      "metadata": {
        "id": "04_Nxif8Q_iQ"
      }
    },
    {
      "cell_type": "code",
      "source": "# 입력\nname = await input('이름을 입력하세요:')",
      "metadata": {
        "id": "PlbHu2Vkw_i6"
      },
      "execution_count": null,
      "outputs": []
    },
    {
      "cell_type": "code",
      "source": "# 확인\nprint(f'{name}님 안녕하세요!')",
      "metadata": {
        "id": "NNDumgvGL9ej"
      },
      "execution_count": null,
      "outputs": []
    },
    {
      "cell_type": "code",
      "source": "# 입력\na = await input()",
      "metadata": {
        "id": "ZWXdZR42Qyjc"
      },
      "execution_count": null,
      "outputs": []
    },
    {
      "cell_type": "code",
      "source": "# 정수 변환\na = int(a)\n\n# 짝홀수 확인\nif a % 2 == 0:\n    print(f'{a}은(는)짝수입니다.')\nelse:\n    print(f'{a}은(는) 홀수입니다.')",
      "metadata": {
        "id": "mMxL3ySlMBVR"
      },
      "execution_count": null,
      "outputs": []
    },
    {
      "cell_type": "markdown",
      "source": "#### **④ zip(iterable1, iterable2, ...) 함수**\n\n- 여러 이터러블 객체에서 각 요소들을 묶어 튜플 형태의 이터러블 객체를 반환합니다.",
      "metadata": {
        "id": "_9YTHvV-Xd0-"
      }
    },
    {
      "cell_type": "code",
      "source": "# 변수 선언\na = [1, 2, 3, 4, 5]\nb = [10, 20, 30, 40]\n\n# 묶기\nc = list(zip(a, b))\n\n# 확인\nprint(c)",
      "metadata": {
        "id": "UAkulD9_XVup"
      },
      "execution_count": null,
      "outputs": []
    },
    {
      "cell_type": "code",
      "source": "# 변수 선언\nname = ['홍길동', '일지매', '한사랑', '강우동']\nscore = [80, 90, 70, 85]\n\n# 딕셔너리 선언\nc = {k:v for k, v in zip(name, score)}\n\n# 확인\nprint(c)",
      "metadata": {
        "id": "a1kk981myKhT"
      },
      "execution_count": null,
      "outputs": []
    },
    {
      "cell_type": "markdown",
      "source": "## **Topic 4. 표준 모듈 활용**",
      "metadata": {
        "id": "m_RVUF0ko8ox"
      }
    },
    {
      "cell_type": "markdown",
      "source": "### **1) os 모듈**\n\n- os.getcwd(): 현재 작업 디렉터리의 경로를 반환합니다.\n- os.listdir(path): 지정한 디렉터리 내의 파일과 디렉터리 목록을 리스트로 반환합니다.\n- os.path.exists(path): 지정한 경로의 파일 또는 디렉터리가 존재하는지 확인합니다.\n- os.mkdir(path): 지정한 경로에 새 디렉터리를 생성합니다.\n- os.remove(path): 지정한 파일을 삭제합니다.",
      "metadata": {
        "id": "arl9FLdpzL2-"
      }
    },
    {
      "cell_type": "code",
      "source": "# 모듈 불러오기\nimport os",
      "metadata": {
        "id": "WZ01-ozMcc2t",
        "trusted": true
      },
      "execution_count": 1,
      "outputs": []
    },
    {
      "cell_type": "markdown",
      "source": "#### **① os.getcwd() 함수**\n\n- 현재 작업 디렉터리의 경로를 반환합니다.",
      "metadata": {
        "id": "NCBjCp-b4YoU"
      }
    },
    {
      "cell_type": "code",
      "source": "# 현재 작업 디렉터리 얻기\ncurrent_directory = os.getcwd()\n\n# 확인\nprint('현재 작업 디렉터리:', current_directory)",
      "metadata": {
        "id": "ZweI3LhG2Sx7",
        "trusted": true
      },
      "execution_count": 2,
      "outputs": [
        {
          "name": "stdout",
          "text": "현재 작업 디렉터리: /drive/Python Skill-Up/Lesson 3\n",
          "output_type": "stream"
        }
      ]
    },
    {
      "cell_type": "markdown",
      "source": "#### **② os.listdir(path) 함수**\n\n- 지정한 디렉터리 내의 파일과 디렉터리 목록을 리스트로 반환합니다.",
      "metadata": {
        "id": "orGrnbr64SaY"
      }
    },
    {
      "cell_type": "code",
      "source": "# 디렉터리 지정\ndirectory_path = '/drive/Python Skill-Up/Lesson 3'\n\n# 목록 얻기\nfile_list = os.listdir(directory_path)\nfile_list.sort()\n\n# 확인\nfor file in file_list:\n    print(file)",
      "metadata": {
        "id": "EQKvoqLR2VSI",
        "trusted": true
      },
      "execution_count": 3,
      "outputs": [
        {
          "name": "stdout",
          "text": "L3_T1_기본 함수 만들기_실습.ipynb\nL3_T3_주요 내장 함수_실습.ipynb\nL3_T4_표준 모듈 활용_실습.ipynb\nL3_함수와 모듈_예제.ipynb\nL3_함수와 모듈_종합실습정답.ipynb\n",
          "output_type": "stream"
        }
      ]
    },
    {
      "cell_type": "markdown",
      "source": "#### **③ os.path.exists(path) 함수**\n\n- 지정한 경로의 파일 또는 디렉터리가 존재하는지 확인합니다.",
      "metadata": {
        "id": "OjBo3ppU4Mph",
        "tags": []
      }
    },
    {
      "cell_type": "code",
      "source": "# 디렉터리 지정\ndirectory = 'Test'\n\n# 존재 여부 확인\nif os.path.exists(directory):\n    print(f'{directory} 디렉터리가 존재합니다.')\nelse:\n    print(f'{directory} 디렉터리가 존재하지 않습니다.')",
      "metadata": {
        "id": "pYINjyzF2hso",
        "trusted": true
      },
      "execution_count": 4,
      "outputs": [
        {
          "name": "stdout",
          "text": "Test 디렉터리가 존재하지 않습니다.\n",
          "output_type": "stream"
        }
      ]
    },
    {
      "cell_type": "markdown",
      "source": "#### **④ os.mkdir(path) 함수**\n\n- 지정한 경로에 새 디렉터리를 생성합니다.",
      "metadata": {
        "id": "Png63j-V4Qm3"
      }
    },
    {
      "cell_type": "code",
      "source": "# 디렉터리 지정\nnew_directory = 'Test'\n\n# 디렉터리 만들기\nos.mkdir(new_directory)\nprint(f'디렉터리 {new_directory}가 생성되었습니다.')",
      "metadata": {
        "id": "M_vRwMNr2cl1",
        "trusted": true
      },
      "execution_count": 5,
      "outputs": [
        {
          "name": "stdout",
          "text": "디렉터리 Test가 생성되었습니다.\n",
          "output_type": "stream"
        }
      ]
    },
    {
      "cell_type": "markdown",
      "source": "#### **⑤ os.remove(path) 함수**\n\n- 지정한 파일을 삭제합니다.",
      "metadata": {
        "id": "QBy032g84OwJ"
      }
    },
    {
      "cell_type": "code",
      "source": "# 파일 지정\nfile_to_delete = 'Test/test.txt'\n\n# 파일이 있으면 삭제\nif os.path.exists(file_to_delete):\n    os.remove(file_to_delete)\n    print(f'{file_to_delete} 파일이 삭제되었습니다.')\nelse:\n    print(f'{file_to_delete} 파일이 존재하지 않습니다.')",
      "metadata": {
        "id": "yf02KPRq2gD6",
        "trusted": true
      },
      "execution_count": null,
      "outputs": [
        {
          "name": "stdout",
          "text": "Test/test.txt 파일이 존재하지 않습니다.\n",
          "output_type": "stream"
        }
      ]
    },
    {
      "cell_type": "markdown",
      "source": "### **2) time 모듈**\n\n- time.time(): 현재 시간을 에폭 시간(1970년 1월 1일 이후 경과한 초)으로 반환합니다.\n- time.sleep(seconds): 주어진 시간(초) 동안 프로그램 실행을 일시 중지합니다.\n- time.localtime([secs]): 에폭 시간을 지역 시간으로 변환하여 튜플로 반환합니다.\n- time.strftime(format, t): 지역 시간을 주어진 형식에 따라 문자열로 포맷팅합니다.\n- time.gmtime([secs]): 에폭 시간을 협정 세계시(UTC)로 변환하여 튜플로 반환합니다.\n",
      "metadata": {
        "id": "7665tyPrzlzC"
      }
    },
    {
      "cell_type": "code",
      "source": "# 모듈 불러오기\nimport time",
      "metadata": {
        "id": "vwvHQ_G4ZOR9"
      },
      "execution_count": null,
      "outputs": []
    },
    {
      "cell_type": "markdown",
      "source": "#### **① time.time() 함수**\n\n- 현재 시간을 에폭 시간(1970년 1월 1일 이후 경과한 초)으로 반환합니다.",
      "metadata": {
        "id": "LhWJieO34Jza"
      }
    },
    {
      "cell_type": "code",
      "source": "# 현재 시간(초)\ncurrent_time = time.time()\n\n# 확인\nprint('현재 시간(타임스탬프):', current_time)",
      "metadata": {
        "id": "T5HWv3BwpEVZ"
      },
      "execution_count": null,
      "outputs": []
    },
    {
      "cell_type": "markdown",
      "source": "#### **② time.sleep(seconds) 함수**\n\n- 주어진 시간(초) 동안 프로그램 실행을 일시 중지합니다.",
      "metadata": {
        "id": "incCc99_4H7T"
      }
    },
    {
      "cell_type": "code",
      "source": "# 시각\nprint('프로그램 시작')\n\n# 2초 동안 중지\ntime.sleep(2)\n\n# 종료\nprint('프로그램 종료')",
      "metadata": {
        "id": "nbjlex652q4e"
      },
      "execution_count": null,
      "outputs": []
    },
    {
      "cell_type": "markdown",
      "source": "#### **③ time.localtime([secs]) 함수**\n\n- 에폭 시간을 지역 시간으로 변환하여 튜플로 반환합니다.",
      "metadata": {
        "id": "JpnECG1N4F_O"
      }
    },
    {
      "cell_type": "code",
      "source": "# 현재 시간\ncurrent_time = time.localtime()\n\n# 확인\nprint(current_time)",
      "metadata": {
        "id": "vC_71b7ebBrQ"
      },
      "execution_count": null,
      "outputs": []
    },
    {
      "cell_type": "code",
      "source": "print('년:', current_time.tm_year)\nprint('월:', current_time.tm_mon)\nprint('일:', current_time.tm_mday)\nprint('시:', current_time.tm_hour)\nprint('분:', current_time.tm_min)\nprint('초:', current_time.tm_sec)",
      "metadata": {
        "id": "lM9-0Szi9E78"
      },
      "execution_count": null,
      "outputs": []
    },
    {
      "cell_type": "markdown",
      "source": "#### **④ time.strftime(format, t) 함수**\n\n- 지역 시간을 주어진 형식에 따라 문자열로 포맷팅합니다.",
      "metadata": {
        "id": "xilsf1vEbgJC"
      }
    },
    {
      "cell_type": "code",
      "source": "# 현재 시간\ncurrent_time = time.localtime()\n\n# 포맷팅\nformatted_time = time.strftime('%Y-%m-%d %H:%M:%S', current_time)\n\n# 확인\nprint('현재 시간:', formatted_time)",
      "metadata": {
        "id": "_NZzUqOPaF0U"
      },
      "execution_count": null,
      "outputs": []
    },
    {
      "cell_type": "markdown",
      "source": "#### **⑤ time.gmtime([secs]) 함수**\n\n- 에폭 시간을 협정 세계시(UTC)로 변환하여 튜플로 반환합니다.",
      "metadata": {
        "id": "s_N7-jhQbnzm"
      }
    },
    {
      "cell_type": "code",
      "source": "# 현재 UTC 시간\nutc_time = time.gmtime()\n\n# 확인\nprint('현재 UTC 시간 정보:')\nprint(f'년: {utc_time.tm_year}')\nprint(f'월: {utc_time.tm_mon}')\nprint(f'일: {utc_time.tm_mday}')\nprint(f'시: {utc_time.tm_hour}')\nprint(f'분: {utc_time.tm_min}')\nprint(f'초: {utc_time.tm_sec}')",
      "metadata": {
        "id": "d4zFy6KAaUe3"
      },
      "execution_count": null,
      "outputs": []
    },
    {
      "cell_type": "markdown",
      "source": "### **3) random 모듈**\n\n- random.random(): 0 이상 1 미만의 부동 소수점 난수를 생성합니다.\n- random.randint(a, b): a와 b 사이(포함)의 정수 난수를 생성합니다.\n- random.choice(seq): 주어진 시퀀스(리스트, 튜플 등)에서 무작위로 요소를 선택합니다.\n- random.shuffle(seq): 주어진 시퀀스의 요소들을 무작위로 섞습니다.\n- random.seed(a=None, version=2): 난수 생성기의 시드(seed)를 설정합니다.\n",
      "metadata": {
        "id": "Birr1VbTzpWx"
      }
    },
    {
      "cell_type": "code",
      "source": "# 모듈 불러오기\nimport random",
      "metadata": {
        "id": "t9Tapz0fYbaa"
      },
      "execution_count": null,
      "outputs": []
    },
    {
      "cell_type": "markdown",
      "source": "#### **① random.random() 함수**\n\n- 0 이상 1 미만의 부동 소수점 난수를 생성합니다.",
      "metadata": {
        "id": "h3k2Fdqp3_yD"
      }
    },
    {
      "cell_type": "code",
      "source": "# 난수 만들기\nrandom_number = random.random()\n\n# 확인\nprint('난수:', random_number)",
      "metadata": {
        "id": "AoVzHquQzsro"
      },
      "execution_count": null,
      "outputs": []
    },
    {
      "cell_type": "markdown",
      "source": "#### **② random.randint(a, b) 함수**\n\n- a와 b 사이(포함)의 정수 난수를 생성합니다.",
      "metadata": {
        "id": "NPPfWv9B3996"
      }
    },
    {
      "cell_type": "code",
      "source": "# 난수 만들기\nrandom_int = random.randint(1, 10)\n\n# 확인\nprint('난수:', random_int)",
      "metadata": {
        "id": "rGD3mu2624NB"
      },
      "execution_count": null,
      "outputs": []
    },
    {
      "cell_type": "markdown",
      "source": "#### **③ random.choice(seq) 함수**\n\n- 주어진 시퀀스(리스트, 튜플 등)에서 무작위로 요소를 선택합니다.",
      "metadata": {
        "id": "pwKbFpjH335y"
      }
    },
    {
      "cell_type": "code",
      "source": "# 리스트 선언\nmy_list = [10, 20, 30, 40, 50]\n\n# 무작위 선택\nrandom_element = random.choice(my_list)\nprint('무작위 선택:', random_element)",
      "metadata": {
        "id": "UWyVQlpB236t"
      },
      "execution_count": null,
      "outputs": []
    },
    {
      "cell_type": "markdown",
      "source": "#### **④ random.shuffle(seq) 함수**\n\n- 주어진 시퀀스의 요소들을 무작위로 섞습니다.",
      "metadata": {
        "id": "gqTTo2Vi37gE"
      }
    },
    {
      "cell_type": "code",
      "source": "# 리스트 선언\nmy_list = [1, 2, 3, 4, 5]\n\n# 요소 섞기\nrandom.shuffle(my_list)\nprint('섞인 리스트:', my_list)",
      "metadata": {
        "id": "D87E9lZT24C7"
      },
      "execution_count": null,
      "outputs": []
    },
    {
      "cell_type": "markdown",
      "source": "#### **⑤ random.seed(a=None, version=2) 함수**\n\n- 난수 생성기의 시드(seed)를 설정합니다.",
      "metadata": {
        "id": "3L96g_4X30Zu"
      }
    },
    {
      "cell_type": "code",
      "source": "# 시드 설정\nrandom.seed(42)\n\n# 난수 만들기\nrandom_num1 = random.random()\nrandom_num2 = random.random()\n\n# 확인\nprint('난수 1:', random_num1)\nprint('난수 2:', random_num2)",
      "metadata": {
        "id": "UonwEvk93BCE"
      },
      "execution_count": null,
      "outputs": []
    },
    {
      "cell_type": "markdown",
      "source": "### **4) math 모듈**\n\n- math.sqrt(x): 주어진 숫자 x의 제곱근을 계산하여 반환합니다.\n- math.pow(x, y): x를 y 제곱한 값을 반환합니다. (x ** y와 동일)\n- math.exp(x): 지수 함수를 계산하여 반환합니다. ($e^x$)\n- math.ceil(x), math.floor(x): 올림(x 이상 가장 작은 정수), 내림(x 이하 가장 큰 정수)한 값을 반환합니다.\n- math.sin(x), math.cos(x), math.tan(x): 삼각 함수로, 각각 사인, 코사인, 탄젠트 값을 계산하여 반환합니다.\n",
      "metadata": {
        "id": "NFgaZ01NztNU"
      }
    },
    {
      "cell_type": "code",
      "source": "# 모듈 불러오기\nimport math",
      "metadata": {
        "id": "RisD4bHRTlY8"
      },
      "execution_count": null,
      "outputs": []
    },
    {
      "cell_type": "markdown",
      "source": "#### **① math.sqrt(x) 함수**\n\n- 주어진 숫자 x의 제곱근을 계산하여 반환합니다.",
      "metadata": {
        "id": "2P2DgsnY3x9u"
      }
    },
    {
      "cell_type": "code",
      "source": "# 변수 선언\nnum = 16\n\n# 제곱근\nsquare_root = math.sqrt(num)\n\n# 확인\nprint(f'{num}의 제곱근은 {square_root}입니다.')",
      "metadata": {
        "id": "EUsFwzenzxyE"
      },
      "execution_count": null,
      "outputs": []
    },
    {
      "cell_type": "markdown",
      "source": "#### **② math.pow(x, y) 함수**\n\n- x를 y 제곱한 값을 반환합니다. (x ** y와 동일)",
      "metadata": {
        "id": "9XuBD3jWVYdT"
      }
    },
    {
      "cell_type": "code",
      "source": "# 변수 선언\nx = 2\ny = 3\n\n# x를 y 제곱\nresult = math.pow(x, y)\n\n# 확인\nprint(f'{x}의 {y} 제곱은 {result}입니다.')",
      "metadata": {
        "id": "c6A19LXNUD1f"
      },
      "execution_count": null,
      "outputs": []
    },
    {
      "cell_type": "markdown",
      "source": "#### **③ math.exp(x) 함수**\n\n- 지수 함수를 계산하여 반환합니다. ($e^x$)",
      "metadata": {
        "id": "bxHTao2j3wL3"
      }
    },
    {
      "cell_type": "code",
      "source": "# 변수 선언\nx = 2.0\n\n# e의 2.0 승\nresult = math.exp(x)\n\n# 확인\nprint(f'e의 {x} 승은 {result:.5f}입니다.')",
      "metadata": {
        "id": "B6q65KPW3GFg"
      },
      "execution_count": null,
      "outputs": []
    },
    {
      "cell_type": "markdown",
      "source": "#### **④ math.ceil(x), math.floor(x) 함수**\n\n- 올림(x 이상 가장 작은 정수), 내림(x 이하 가장 큰 정수)한 값을 반환합니다.",
      "metadata": {
        "id": "E9-lrxM23qGs"
      }
    },
    {
      "cell_type": "code",
      "source": "# 변수 선언\nnum = 4.6\n\n# 올림, 내림, 반올릴\nc_num = math.ceil(num)\nf_num = math.floor(num)\nr_num = round(num)\n\n# 확인\nprint('올림:', c_num)\nprint('내림:', f_num)\nprint('반올림:', r_num)",
      "metadata": {
        "id": "0U8Kbs863For"
      },
      "execution_count": null,
      "outputs": []
    },
    {
      "cell_type": "markdown",
      "source": "#### **⑤ math.sin(x), math.cos(x), math.tan(x) 함수**\n\n- 삼각 함수로, 각각 사인, 코사인, 탄젠트 값을 계산하여 반환합니다.",
      "metadata": {
        "id": "lLbEoqA73t5X"
      }
    },
    {
      "cell_type": "code",
      "source": "# 각도 --> 라디안 변환\nangle = math.radians(45)\n\n# sin, cos, tan\ns = math.sin(angle)\nc = math.cos(angle)\nt = math.tan(angle)\n\n# 확인\nprint('sin:', s)\nprint('cos:', c)\nprint('tan:', t)",
      "metadata": {
        "id": "0RL-maoy3F3b"
      },
      "execution_count": null,
      "outputs": []
    },
    {
      "cell_type": "markdown",
      "source": "### **5) calendar 모듈**\n\n- calendar.month(year, month): 주어진 연도와 월에 해당하는 달력을 문자열 형식으로 반환합니다.\n- calendar.month_name: 월의 이름을 담고 있는 튜플을 반환합니다.\n- calendar.day_name: 요일의 이름을 담고 있는 튜플을 반환합니다.\n- calendar.weekday(year, month, day): 주어진 날짜의 요일을 반환합니다. (0: 월요일 ~ 6: 일요일)\n- calendar.isleap(year): 주어진 연도가 윤년인지 여부를 확인합니다. (윤년이면 True, 아니면 False)\n",
      "metadata": {
        "id": "_luWmWkEzywz"
      }
    },
    {
      "cell_type": "code",
      "source": "# 모듈 불러오기\nimport calendar",
      "metadata": {
        "id": "Ev8eV9CwI2G5"
      },
      "execution_count": null,
      "outputs": []
    },
    {
      "cell_type": "markdown",
      "source": "#### **① calendar.month(year, month) 함수**\n\n- 주어진 연도와 월에 해당하는 달력을 문자열 형식으로 반환합니다.",
      "metadata": {
        "id": "U4F-8Xr33ngm"
      }
    },
    {
      "cell_type": "code",
      "source": "# 연도\nyear = 2023\n\n# 달력 표시\ncal = calendar.calendar(year)\nprint(cal)",
      "metadata": {
        "id": "PHViTlyE3QjW"
      },
      "execution_count": null,
      "outputs": []
    },
    {
      "cell_type": "code",
      "source": "# 년월\nyear, month = 2023, 12\n\n# 달력 표시\ncal = calendar.month(year, month)\nprint(cal)",
      "metadata": {
        "id": "FImCSL3Tz2AY"
      },
      "execution_count": null,
      "outputs": []
    },
    {
      "cell_type": "code",
      "source": "# 년월\nyear, month = 2023, 12\n\n# 일요일 시작 설정\ncal = calendar.TextCalendar(calendar.SUNDAY)\n\n# 달력 표시\ncal_text = cal.formatmonth(year, month)\nprint(cal_text)",
      "metadata": {
        "id": "QSbpOjEaO0ak"
      },
      "execution_count": null,
      "outputs": []
    },
    {
      "cell_type": "markdown",
      "source": "#### **② calendar.month_name 속성**\n\n- 월의 이름을 담고 있는 튜플을 반환합니다.",
      "metadata": {
        "id": "gB0_cu4vLEDk"
      }
    },
    {
      "cell_type": "code",
      "source": "# 월 이름 출력\nfor m_num, m_name in enumerate(calendar.month_name):\n    if m_num == 0:\n        continue  # 0번째 인덱스 무시\n    print(f\"{m_num:2d}월: {m_name}\")",
      "metadata": {
        "id": "0AYSPdffK8x0"
      },
      "execution_count": null,
      "outputs": []
    },
    {
      "cell_type": "markdown",
      "source": "#### **③ calendar.day_name 속성**\n\n- 요일의 이름을 담고 있는 튜플을 반환합니다.",
      "metadata": {
        "id": "PajzWt713foe"
      }
    },
    {
      "cell_type": "code",
      "source": "# 요일 이름\nday_name = calendar.day_name\n\n# 확인\nfor day in day_name:\n    print(day)",
      "metadata": {
        "id": "1xLKA7jH3Qax"
      },
      "execution_count": null,
      "outputs": []
    },
    {
      "cell_type": "markdown",
      "source": "#### **④ calendar.weekday(year, month, day) 함수**\n\n- 주어진 날짜의 요일을 반환합니다. (0: 월요일 ~ 6: 일요일)",
      "metadata": {
        "id": "g3BYJJY8Lmwx"
      }
    },
    {
      "cell_type": "code",
      "source": "# 날짜\nyear, month, day = 2023, 12, 25\n\n# 요일 확인\nday_of_week = calendar.weekday(year, month, day)\n\n# 문자열로 변환\nday_names = ['월요일', '화요일', '수요일', '목요일', '금요일', '토요일', '일요일']\nday_name = day_names[day_of_week]\n\n# 확인\nprint(f'{year}년 {month}월 {day}일은 {day_name}입니다.')",
      "metadata": {
        "id": "K-GO_hOBLa3N"
      },
      "execution_count": null,
      "outputs": []
    },
    {
      "cell_type": "markdown",
      "source": "#### **⑤ calendar.isleap(year) 함수**\n\n- 주어진 연도가 윤년인지 여부를 확인합니다. (윤년이면 True, 아니면 False).",
      "metadata": {
        "id": "FHFRXbfs3dWm"
      }
    },
    {
      "cell_type": "code",
      "source": "# 연도\nyear = 2024\n\n# 윤년 확인\nif calendar.isleap(year):\n    print(f'{year}년은 윤년입니다.')\nelse:\n    print(f'{year}년은 윤년이 아닙니다.')",
      "metadata": {
        "id": "S_dO2DIX3QS0"
      },
      "execution_count": null,
      "outputs": []
    }
  ]
}