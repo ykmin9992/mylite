{
 "cells": [
  {
   "cell_type": "markdown",
   "metadata": {
    "id": "aRMus2AyDtVl"
   },
   "source": [
    "# **Topic 4. 표준 모듈 활용_실습**"
   ]
  },
  {
   "cell_type": "markdown",
   "metadata": {
    "id": "dUwY1Dyth-7V"
   },
   "source": [
    "**1) 현재 작업 디렉토리에 포함된 디렉토리와 파일 목록을 오름차순 정렬해서 확인하세요.**"
   ]
  },
  {
   "cell_type": "markdown",
   "metadata": {
    "id": "Ay_A4a74lBlm"
   },
   "source": [
    "[결과 예시] 결과 예시와 다를 수 있음\n",
    "\n",
    "~~~\n",
    "L3_T1_기본 함수 만들기_실습.ipynb\n",
    "L3_T2_고급 함수 만들기_실습.ipynb\n",
    "L3_T3_주요 내장 함수_실습.ipynb\n",
    "L3_T4_표준 모듈 활용_실습.ipynb\n",
    "L3_함수와 모듈_예제.ipynb\n",
    "L3_함수와 모듈_종합실습.ipynb\n",
    "~~~"
   ]
  },
  {
   "cell_type": "code",
   "execution_count": 1,
   "metadata": {
    "id": "_nrs8SmtD0WO",
    "tags": []
   },
   "outputs": [
    {
     "name": "stdout",
     "output_type": "stream",
     "text": [
      ".ipynb_checkpoints\n",
      "1. 교안 및 실습자료\n",
      "2. 퀴즈\n",
      "3. 영상\n",
      "L3_T1_기본 함수 만들기_실습정답.ipynb\n",
      "L3_T2_고급 함수 만들기_실습정답.ipynb\n",
      "L3_T3_주요 내장 함수_실습정답.ipynb\n",
      "L3_T4_표준 모듈 활용_실습정답.ipynb\n",
      "L3_함수와 모듈_종합실습정답.ipynb\n",
      "Untitled.ipynb\n",
      "WhyPython02\n",
      "데이터 분석은 왜 배워야 하는가.mp4\n",
      "데이터 분석은 왜 배워야 하는가_02.mp4\n",
      "작업완료\n",
      "한기영 대표님 교안 모음집.pdf\n"
     ]
    }
   ],
   "source": [
    "import os\n",
    "directory_path = os.getcwd()\n",
    "file_list = os.listdir(directory_path)\n",
    "file_list.sort()\n",
    "for file in file_list:\n",
    "    print(file)"
   ]
  },
  {
   "cell_type": "markdown",
   "metadata": {
    "id": "Gu0jd6oAiAug"
   },
   "source": [
    "**2) 현재 날짜와 시간을 YYYY년 MM월 DD일 HH시 MM분 SS초 형태로 확인하세요.**"
   ]
  },
  {
   "cell_type": "markdown",
   "metadata": {
    "id": "5AuM6pS5ka8z"
   },
   "source": [
    "[결과 예시] 실행 시간이 달라 결과 예시와 다름\n",
    "\n",
    "~~~\n",
    "2023년 10월 13일 10시 25분 13초\n",
    "~~~"
   ]
  },
  {
   "cell_type": "code",
   "execution_count": 2,
   "metadata": {
    "id": "jlWZAEBjTucw",
    "tags": []
   },
   "outputs": [
    {
     "name": "stdout",
     "output_type": "stream",
     "text": [
      "2023년 11월 30일 20시 51분 42초\n"
     ]
    }
   ],
   "source": [
    "import time\n",
    "current_time = time.localtime()\n",
    "current_time = time.strftime('%Y년 %m월 %d일 %H시 %M분 %S초', current_time)\n",
    "print(current_time)"
   ]
  },
  {
   "cell_type": "markdown",
   "metadata": {
    "id": "OqIWbeHMiCOZ"
   },
   "source": [
    "**3) 다음 요구에 따라 두 변수 num1, num2를 선언하고 두 변수 값과 두 변수 곱을 확인하세요.**\n",
    "\n",
    "- num1: 100 ~ 200 사이의 정수 난수\n",
    "- num2: 1 ~ 10 사이의 정수 난수"
   ]
  },
  {
   "cell_type": "markdown",
   "metadata": {
    "id": "_cIsgoh3j2Le"
   },
   "source": [
    "[결과 예시] 난수이므로 결과 예시와 다름\n",
    "\n",
    "~~~\n",
    "num1 = 140\n",
    "num2 = 9\n",
    "num1 * num2 = 1260\n",
    "~~~"
   ]
  },
  {
   "cell_type": "code",
   "execution_count": 3,
   "metadata": {
    "id": "RHc8nHBlTuYC",
    "tags": []
   },
   "outputs": [
    {
     "name": "stdout",
     "output_type": "stream",
     "text": [
      "num1 = 165\n",
      "num2 = 6\n",
      "num1 * num2 = 990\n"
     ]
    }
   ],
   "source": [
    "import random\n",
    "num1 = random.randint(100, 200)\n",
    "num2 = random.randint(1, 10)\n",
    "print('num1 =', num1)\n",
    "print('num2 =', num2)\n",
    "print('num1 * num2 =', num1 * num2)"
   ]
  },
  {
   "cell_type": "markdown",
   "metadata": {
    "id": "ZERtWXIviDpI"
   },
   "source": [
    "**4) 변수 num에 대해 올림한 값과 내림한 값을 a, b로 각각 선언한 후 확인하세요.**"
   ]
  },
  {
   "cell_type": "markdown",
   "metadata": {
    "id": "rMS0qO5Situd"
   },
   "source": [
    "[결과 예시]\n",
    "\n",
    "~~~\n",
    "올림: 424\n",
    "내림: 423\n",
    "~~~"
   ]
  },
  {
   "cell_type": "code",
   "execution_count": 4,
   "metadata": {
    "id": "8Z7O_mCITuT4",
    "tags": []
   },
   "outputs": [
    {
     "name": "stdout",
     "output_type": "stream",
     "text": [
      "올림: 424\n",
      "내림: 423\n"
     ]
    }
   ],
   "source": [
    "import math\n",
    "num = 423.56\n",
    "a = math.ceil(num)\n",
    "b = math.floor(num)\n",
    "print('올림:', a)\n",
    "print('내림:', b)"
   ]
  },
  {
   "cell_type": "markdown",
   "metadata": {
    "id": "jnF_KXO6iEvP"
   },
   "source": [
    "**5) 현재 년월의 달력을 출력하세요.**\n",
    "\n",
    "- 단, 일요일부터 시작하게 하세요."
   ]
  },
  {
   "cell_type": "markdown",
   "metadata": {
    "id": "YeBTvg1YiQHe"
   },
   "source": [
    "[결과 예시] 2023년 10월의 경우\n",
    "\n",
    "~~~\n",
    "    October 2023\n",
    "Su Mo Tu We Th Fr Sa\n",
    " 1  2  3  4  5  6  7\n",
    " 8  9 10 11 12 13 14\n",
    "15 16 17 18 19 20 21\n",
    "22 23 24 25 26 27 28\n",
    "29 30 31 \n",
    "~~~\n"
   ]
  },
  {
   "cell_type": "code",
   "execution_count": 6,
   "metadata": {
    "id": "EdMVihdOTuOa",
    "tags": []
   },
   "outputs": [
    {
     "name": "stdout",
     "output_type": "stream",
     "text": [
      "    October 2023\n",
      "Su Mo Tu We Th Fr Sa\n",
      " 1  2  3  4  5  6  7\n",
      " 8  9 10 11 12 13 14\n",
      "15 16 17 18 19 20 21\n",
      "22 23 24 25 26 27 28\n",
      "29 30 31\n",
      "\n"
     ]
    }
   ],
   "source": [
    "import calendar\n",
    "year, month = 2023, 10\n",
    "cal = calendar.TextCalendar(calendar.SUNDAY)\n",
    "cal_text = cal.formatmonth(year, month)\n",
    "print(cal_text)"
   ]
  },
  {
   "cell_type": "code",
   "execution_count": null,
   "metadata": {},
   "outputs": [],
   "source": []
  }
 ],
 "metadata": {
  "colab": {
   "provenance": []
  },
  "kernelspec": {
   "display_name": "Python 3 (ipykernel)",
   "language": "python",
   "name": "python3"
  },
  "language_info": {
   "codemirror_mode": {
    "name": "ipython",
    "version": 3
   },
   "file_extension": ".py",
   "mimetype": "text/x-python",
   "name": "python",
   "nbconvert_exporter": "python",
   "pygments_lexer": "ipython3",
   "version": "3.11.5"
  }
 },
 "nbformat": 4,
 "nbformat_minor": 4
}
